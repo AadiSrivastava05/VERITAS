{
 "cells": [
  {
   "cell_type": "markdown",
   "metadata": {
    "id": "Gcd-JgYAJACg"
   },
   "source": [
    "## Installing Dependencies"
   ]
  },
  {
   "cell_type": "code",
   "execution_count": null,
   "metadata": {},
   "outputs": [],
   "source": [
    "!pip install -r ResNet_Boosting_requirements.txt"
   ]
  },
  {
   "cell_type": "code",
   "execution_count": null,
   "metadata": {
    "id": "pfo0_vEvC4o9"
   },
   "outputs": [],
   "source": [
    "import torch\n",
    "import torch.nn as nn\n",
    "import torch.nn.functional as F\n",
    "from torch.utils.data import DataLoader\n",
    "from torchvision import datasets\n",
    "import torchvision.transforms as transforms\n",
    "from torchvision import models as M\n",
    "import torch.optim as optim\n",
    "from tqdm import tqdm\n",
    "import logging\n",
    "import random\n",
    "from sklearn.metrics import accuracy_score, f1_score, precision_score, recall_score, classification_report"
   ]
  },
  {
   "cell_type": "code",
   "execution_count": null,
   "metadata": {
    "id": "AMl3BcTMFWdZ"
   },
   "outputs": [],
   "source": [
    "device = torch.device(\"cuda:0\" if torch.cuda.is_available() else \"cpu\")"
   ]
  },
  {
   "cell_type": "markdown",
   "metadata": {
    "id": "5uQTaFP_ST7G"
   },
   "source": [
    "## Transforms\n"
   ]
  },
  {
   "cell_type": "code",
   "execution_count": null,
   "metadata": {
    "id": "evjtAj3FC4o-"
   },
   "outputs": [],
   "source": [
    "transform = transforms.Compose([\n",
    "    transforms.ToTensor(),\n",
    "    transforms.Normalize((0.5, 0.5, 0.5), (0.5, 0.5, 0.5))\n",
    "])\n",
    "\n",
    "train_data = datasets.ImageFolder(root=\"./train\", transform=transform)\n",
    "test_data = datasets.ImageFolder(root=\"./test\", transform=transform)"
   ]
  },
  {
   "cell_type": "markdown",
   "metadata": {
    "id": "QJ8bgV2HJJ3T"
   },
   "source": [
    "## Constructing Model"
   ]
  },
  {
   "cell_type": "code",
   "execution_count": null,
   "metadata": {
    "id": "cbJnQCZPC4o_"
   },
   "outputs": [],
   "source": [
    "def construct_model():\n",
    "    # Load a ResNet-18 model pre-trained on ImageNet\n",
    "    resnet = M.resnet18(pretrained=False)\n",
    "\n",
    "    # Original ResNet expects 224x224 images\n",
    "    resnet.conv1 = nn.Conv2d(3, 64, kernel_size=3, stride=1, padding=1, bias=False)\n",
    "    resnet.maxpool = nn.Identity()  # Remove the max pooling layer to retain spatial dimensions\n",
    "\n",
    "    # Update the fully connected (fc) layer for binary classification\n",
    "    # Original ResNet has an output size of 1000\n",
    "    num_features = resnet.fc.in_features\n",
    "    resnet.fc = nn.Linear(num_features, 2)\n",
    "\n",
    "    return resnet"
   ]
  },
  {
   "cell_type": "code",
   "execution_count": null,
   "metadata": {
    "id": "8jZhwQPUC4pA"
   },
   "outputs": [],
   "source": [
    "def train_model(model, train_loader, test_loader, data_aug_fn,\n",
    "        attach_fn=None, epochs=10, lr=0.001, device='cuda' if torch.cuda.is_available() else 'cpu'):\n",
    "    \"\"\"\n",
    "    Train a PyTorch model with data augmentation and progress logging.\n",
    "\n",
    "    Args:\n",
    "        model (torch.nn.Module): The model to train.\n",
    "        train_loader (DataLoader): Dataloader for training data.\n",
    "        test_loader (DataLoader): Dataloader for test data.\n",
    "        data_aug_fn (callable): Function to apply data augmentation on training data.\n",
    "        epochs (int): Number of epochs to train. Default is 10.\n",
    "        lr (float): Learning rate. Default is 0.001.\n",
    "        device (str): Device to use ('cuda' or 'cpu'). Default is 'cuda' if available.\n",
    "\n",
    "    Returns:\n",
    "        model: The trained model.\n",
    "    \"\"\"\n",
    "    # Setup logging\n",
    "    logging.basicConfig(level=logging.INFO, format='%(asctime)s - %(message)s')\n",
    "    logger = logging.getLogger()\n",
    "    model.to(device)\n",
    "\n",
    "    criterion = nn.CrossEntropyLoss()\n",
    "    optimizer = optim.Adam(model.parameters(), lr=lr)\n",
    "\n",
    "    # Training loop\n",
    "    for epoch in range(epochs):\n",
    "        model.train()\n",
    "        train_loss, correct, total = 0, 0, 0\n",
    "\n",
    "        print(f\"Epoch [{epoch+1}/{epochs}] - Training...\")\n",
    "        for inputs, targets in tqdm(train_loader, desc=\"Training\", leave=False):\n",
    "            inputs, targets = data_aug_fn(inputs,targets)\n",
    "            inputs, targets = inputs.to(device), targets.to(device)\n",
    "\n",
    "            outputs = model(inputs)\n",
    "            loss = criterion(outputs, targets)\n",
    "\n",
    "            optimizer.zero_grad()\n",
    "            loss.backward()\n",
    "            optimizer.step()\n",
    "\n",
    "            train_loss += loss.item()\n",
    "            _, predicted = outputs.max(1)\n",
    "            total += targets.size(0)\n",
    "            correct += predicted.eq(targets).sum().item()\n",
    "\n",
    "        train_accuracy = 100. * correct / total\n",
    "        print(f\"Epoch [{epoch+1}/{epochs}] - Loss: {train_loss:.4f}, Accuracy: {train_accuracy:.2f}%\")\n",
    "\n",
    "        model.eval()\n",
    "        test_loss, correct, total = 0, 0, 0\n",
    "\n",
    "        print(f\"Epoch [{epoch+1}/{epochs}] - Validation...\")\n",
    "        with torch.no_grad():\n",
    "            for inputs, targets in tqdm(test_loader, desc=\"Validation\", leave=False):\n",
    "                inputs, targets = inputs.to(device), targets.to(device)\n",
    "                outputs = model(inputs)\n",
    "                loss = criterion(outputs, targets)\n",
    "\n",
    "                test_loss += loss.item()\n",
    "                _, predicted = outputs.max(1)\n",
    "                total += targets.size(0)\n",
    "                correct += predicted.eq(targets).sum().item()\n",
    "\n",
    "        test_accuracy = 100. * correct / total\n",
    "        print(f\"Epoch [{epoch+1}/{epochs}] - Test Loss: {test_loss:.4f}, Test Accuracy: {test_accuracy:.2f}%\")\n",
    "\n",
    "        if attach_fn is not None:\n",
    "            model.eval()\n",
    "            test_loss, correct, total = 0, 0, 0\n",
    "            print(f\"Epoch [{epoch+1}/{epochs}] - Attacking...\")\n",
    "            for inputs, targets in tqdm(test_loader, desc=\"Attacking\", leave=False):\n",
    "                inputs, targets = inputs.to(device), targets.to(device)\n",
    "                inputs, targets = attach_fn(inputs, targets)\n",
    "                with torch.no_grad():\n",
    "                    outputs = model(inputs)\n",
    "                loss = criterion(outputs, targets)\n",
    "\n",
    "                # Metrics\n",
    "                test_loss += loss.item()\n",
    "                _, predicted = outputs.max(1)\n",
    "                total += targets.size(0)\n",
    "                correct += predicted.eq(targets).sum().item()\n",
    "\n",
    "            test_accuracy = 100. * correct / total\n",
    "            print(f\"Epoch [{epoch+1}/{epochs}] - Attacked Loss: {test_loss:.4f}, Attacked Accuracy: {test_accuracy:.2f}%\")\n",
    "        print()\n",
    "    print(\"Training Complete!\")\n",
    "    return model"
   ]
  },
  {
   "cell_type": "markdown",
   "metadata": {
    "id": "lQR_KAkgJPii"
   },
   "source": [
    "## Adversarial Attacks"
   ]
  },
  {
   "cell_type": "code",
   "execution_count": null,
   "metadata": {
    "id": "IkO1YoocGepE"
   },
   "outputs": [],
   "source": [
    "#FGSM\n",
    "def fgsm_attack(model, x, y, eps=0.03, targeted=False):\n",
    "    model.eval()\n",
    "    x = x.to(device)\n",
    "    y = y.to(device)\n",
    "    x_adv = x.clone().detach().requires_grad_(True)\n",
    "\n",
    "    output = model(x_adv)\n",
    "    criterion = nn.CrossEntropyLoss()\n",
    "\n",
    "    model.zero_grad()\n",
    "    loss = criterion(output, y)\n",
    "    loss.backward()\n",
    "\n",
    "    with torch.no_grad():\n",
    "        if targeted:\n",
    "            perturb = eps * torch.sign(-x_adv.grad)\n",
    "        else:\n",
    "            perturb = eps * torch.sign(x_adv.grad)\n",
    "\n",
    "        x_adv = torch.clamp(x_adv + perturb, min=0, max=1)\n",
    "\n",
    "    return x_adv"
   ]
  },
  {
   "cell_type": "code",
   "execution_count": null,
   "metadata": {
    "id": "hvHNbHUhGpEL"
   },
   "outputs": [],
   "source": [
    "# PGD attack function\n",
    "def pgd_attack(model, x, y, eps=0.03, alpha=0.01, steps=2, targeted=False):\n",
    "    model.eval()\n",
    "    x = x.to(device)\n",
    "    y = y.to(device)\n",
    "    x_adv = x.clone().detach()\n",
    "\n",
    "    x_adv = x_adv + torch.empty_like(x_adv).uniform_(-eps, eps)\n",
    "    x_adv = torch.clamp(x_adv, min=0, max=1)\n",
    "\n",
    "    criterion = nn.CrossEntropyLoss()\n",
    "\n",
    "    for _ in range(steps):\n",
    "        x_adv.requires_grad_(True)\n",
    "\n",
    "        output = model(x_adv)\n",
    "        loss = criterion(output, y)\n",
    "\n",
    "        model.zero_grad()\n",
    "        loss.backward()\n",
    "\n",
    "        with torch.no_grad():\n",
    "            if targeted:\n",
    "                perturb = -alpha * torch.sign(x_adv.grad)\n",
    "            else:\n",
    "                perturb = alpha * torch.sign(x_adv.grad)\n",
    "\n",
    "            x_adv += perturb\n",
    "            x_adv = torch.max(torch.min(x_adv, x + eps), x - eps)\n",
    "            x_adv = torch.clamp(x_adv, min=0, max=1)\n",
    "\n",
    "    return x_adv"
   ]
  },
  {
   "cell_type": "code",
   "execution_count": null,
   "metadata": {
    "id": "5VBKhw0dC4pA"
   },
   "outputs": [],
   "source": [
    "train_dataloader = torch.utils.data.DataLoader(train_data, batch_size=32, shuffle=True)\n",
    "test_dataloader = torch.utils.data.DataLoader(test_data, batch_size=32, shuffle=True)"
   ]
  },
  {
   "cell_type": "code",
   "execution_count": null,
   "metadata": {
    "id": "mrjoOOBoC4pA"
   },
   "outputs": [],
   "source": [
    "def attackit(x,y, model,p_orig=0.3,p_pgd=0.3,p_fgsm=0.4):\n",
    "  # Custom function for attacking\n",
    "    rn = random.uniform(0,1)\n",
    "    if rn < p_orig:\n",
    "        return x,y\n",
    "    elif rn < p_orig + p_pgd:\n",
    "        return pgd_attack(model,x,y),y\n",
    "    else:\n",
    "        return fgsm_attack(model,x,y),y\n",
    "\n",
    "def identity(x, y):\n",
    "    return x, y"
   ]
  },
  {
   "cell_type": "markdown",
   "metadata": {
    "id": "C_YI5AhgJdR6"
   },
   "source": [
    "## Generating final predictions"
   ]
  },
  {
   "cell_type": "code",
   "execution_count": null,
   "metadata": {
    "id": "s5t0iMTYC4pB"
   },
   "outputs": [],
   "source": [
    "def make_preds(model, test_dataloader, attach_fn,device):\n",
    "    preds = []\n",
    "    to_preds = []\n",
    "    for inputs, targets in tqdm(test_dataloader, desc=\"Attacking\", leave=False):\n",
    "        inputs, targets = inputs.to(device), targets.to(device)\n",
    "        inputs, targets = attach_fn(inputs, targets)\n",
    "        with torch.no_grad():\n",
    "            outputs = model(inputs)\n",
    "        _, predicted = outputs.max(1)\n",
    "        preds.extend(predicted.cpu().numpy())\n",
    "        to_preds.extend(targets.cpu().numpy())\n",
    "    return preds, to_preds\n",
    "\n",
    "model = models[-1]\n",
    "model.eval()\n",
    "\n",
    "device = 'cuda' if torch.cuda.is_available() else 'cpu'\n",
    "attach_fn = lambda x,y: attackit(x,y, models[0],1.0,0.0,0.0)\n",
    "preds, to_preds = make_preds(model, test_dataloader, attach_fn,device)\n",
    "print('Without Adversarial Attacks')\n",
    "print(classification_report(to_preds, preds))\n",
    "\n",
    "attach_fn = lambda x,y: attackit(x,y, models[0],0.0,0.5,0.5)\n",
    "preds, to_preds = make_preds(models[0], test_dataloader, attach_fn,device)\n",
    "print('With Adversarial Attacks (FGSM + PGD)-Baseline')\n",
    "print(classification_report(to_preds, preds))\n",
    "\n",
    "\n",
    "attach_fn = lambda x,y: attackit(x,y, models[0],0.0,0.0,1.0)\n",
    "preds, to_preds = make_preds(model, test_dataloader, attach_fn,device)\n",
    "print('With FGSM Adversarial Attacks')\n",
    "print(classification_report(to_preds, preds))\n",
    "\n",
    "attach_fn = lambda x,y: attackit(x,y, models[0],0.0,1.0,0.0)\n",
    "preds, to_preds = make_preds(model, test_dataloader, attach_fn,device)\n",
    "print('With PGD Adversarial Attacks')\n",
    "print(classification_report(to_preds, preds))"
   ]
  }
 ],
 "metadata": {
  "colab": {
   "provenance": []
  },
  "kernelspec": {
   "display_name": "Python 3 (ipykernel)",
   "language": "python",
   "name": "python3"
  },
  "language_info": {
   "codemirror_mode": {
    "name": "ipython",
    "version": 3
   },
   "file_extension": ".py",
   "mimetype": "text/x-python",
   "name": "python",
   "nbconvert_exporter": "python",
   "pygments_lexer": "ipython3",
   "version": "3.10.14"
  }
 },
 "nbformat": 4,
 "nbformat_minor": 4
}
