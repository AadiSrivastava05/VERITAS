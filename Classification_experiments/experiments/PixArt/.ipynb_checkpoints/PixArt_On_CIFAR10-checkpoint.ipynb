{
 "cells": [
  {
   "cell_type": "code",
   "execution_count": null,
   "metadata": {},
   "outputs": [],
   "source": [
    "!pip install -r Requirements._PixArt.txt"
   ]
  },
  {
   "cell_type": "markdown",
   "metadata": {
    "id": "50MrubowVJKp"
   },
   "source": [
    "## Imports"
   ]
  },
  {
   "cell_type": "code",
   "execution_count": null,
   "metadata": {
    "id": "PFtKB1PyTUVR"
   },
   "outputs": [],
   "source": [
    "import torch\n",
    "from diffusers import Transformer2DModel, PixArtSigmaPipeline"
   ]
  },
  {
   "cell_type": "code",
   "execution_count": null,
   "metadata": {
    "id": "zROGWCNSVPIF"
   },
   "outputs": [],
   "source": [
    "device = torch.device(\"cuda:0\" if torch.cuda.is_available() else \"cpu\")"
   ]
  },
  {
   "cell_type": "markdown",
   "metadata": {
    "id": "DxB_hOpbVcEu"
   },
   "source": [
    "## Model"
   ]
  },
  {
   "cell_type": "code",
   "execution_count": null,
   "metadata": {
    "id": "nLJHP3BFTL6A"
   },
   "outputs": [],
   "source": [
    "weight_dtype = torch.float16\n",
    "\n",
    "pipe = PixArtSigmaPipeline.from_pretrained(\n",
    "    \"PixArt-alpha/PixArt-Sigma-XL-2-1024-MS\",\n",
    "    torch_dtype=weight_dtype,\n",
    "    use_safetensors=True,\n",
    ")\n",
    "pipe.to(device)"
   ]
  },
  {
   "cell_type": "markdown",
   "metadata": {
    "id": "d6rLbf_SVYpi"
   },
   "source": [
    "## Generating image from prompts"
   ]
  },
  {
   "cell_type": "code",
   "execution_count": null,
   "metadata": {
    "colab": {
     "background_save": true
    },
    "id": "r-dw4EqfTwDE"
   },
   "outputs": [],
   "source": [
    "prompt = \"prompt\"\n",
    "image = pipe(prompt).images[0]\n",
    "image.save(\"./img.png\")"
   ]
  }
 ],
 "metadata": {
  "accelerator": "GPU",
  "colab": {
   "gpuType": "T4",
   "provenance": []
  },
  "kernelspec": {
   "display_name": "Python 3 (ipykernel)",
   "language": "python",
   "name": "python3"
  },
  "language_info": {
   "codemirror_mode": {
    "name": "ipython",
    "version": 3
   },
   "file_extension": ".py",
   "mimetype": "text/x-python",
   "name": "python",
   "nbconvert_exporter": "python",
   "pygments_lexer": "ipython3",
   "version": "3.10.14"
  }
 },
 "nbformat": 4,
 "nbformat_minor": 4
}
