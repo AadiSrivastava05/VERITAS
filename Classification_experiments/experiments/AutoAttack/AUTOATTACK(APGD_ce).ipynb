{
 "cells": [
  {
   "cell_type": "code",
   "execution_count": 1,
   "id": "dNZQNyk9sCaB",
   "metadata": {
    "colab": {
     "base_uri": "https://localhost:8080/"
    },
    "id": "dNZQNyk9sCaB",
    "outputId": "778b999e-0232-4e62-e84a-59b26de6a3e3"
   },
   "outputs": [
    {
     "name": "stdout",
     "output_type": "stream",
     "text": [
      "Cloning into 'auto-attack'...\n",
      "remote: Enumerating objects: 672, done.\u001b[K\n",
      "remote: Counting objects: 100% (209/209), done.\u001b[K\n",
      "remote: Compressing objects: 100% (72/72), done.\u001b[K\n",
      "remote: Total 672 (delta 162), reused 156 (delta 137), pack-reused 463 (from 1)\u001b[K\n",
      "Receiving objects: 100% (672/672), 40.63 MiB | 39.22 MiB/s, done.\n",
      "Resolving deltas: 100% (413/413), done.\n"
     ]
    }
   ],
   "source": [
    "!git clone https://github.com/fra31/auto-attack #changes were made in this repository by changing target classes as 9 --> 1 for binary classification.\n",
    "#Changes in autoattack.py, autopgd.py, fab_base.py\n",
    "#Changes in autoattack.py depending on the environment"
   ]
  },
  {
   "cell_type": "code",
   "execution_count": 2,
   "id": "3bf4fe16",
   "metadata": {
    "_cell_guid": "b1076dfc-b9ad-4769-8c92-a6c4dae69d19",
    "_uuid": "8f2839f25d086af736a60e9eeb907d3b93b6e0e5",
    "execution": {
     "iopub.execute_input": "2024-12-02T22:44:38.731514Z",
     "iopub.status.busy": "2024-12-02T22:44:38.731240Z",
     "iopub.status.idle": "2024-12-02T22:44:39.391758Z",
     "shell.execute_reply": "2024-12-02T22:44:39.391131Z"
    },
    "id": "3bf4fe16",
    "papermill": {
     "duration": 0.670321,
     "end_time": "2024-12-02T22:44:39.393766",
     "exception": false,
     "start_time": "2024-12-02T22:44:38.723445",
     "status": "completed"
    },
    "tags": []
   },
   "outputs": [],
   "source": [
    "import numpy as np\n",
    "import pandas as pd\n",
    "import pathlib\n",
    "from pathlib import Path\n",
    "import os\n",
    "import zipfile\n",
    "import torch\n",
    "import torch.nn as nn\n",
    "from torchvision.models import resnet50\n",
    "import matplotlib.pyplot as plt\n",
    "from torchvision import datasets, transforms\n",
    "from torch.utils.data import DataLoader\n",
    "import shutil\n",
    "import numpy as np\n",
    "from PIL import Image"
   ]
  },
  {
   "cell_type": "code",
   "execution_count": 3,
   "id": "57631da8",
   "metadata": {
    "colab": {
     "base_uri": "https://localhost:8080/"
    },
    "execution": {
     "iopub.execute_input": "2024-12-02T22:44:39.426095Z",
     "iopub.status.busy": "2024-12-02T22:44:39.425822Z",
     "iopub.status.idle": "2024-12-02T22:44:39.431678Z",
     "shell.execute_reply": "2024-12-02T22:44:39.430743Z"
    },
    "id": "57631da8",
    "outputId": "3fa5c6e2-f9ee-4b24-bb5f-61fbe1074c56",
    "papermill": {
     "duration": 0.013868,
     "end_time": "2024-12-02T22:44:39.433235",
     "exception": false,
     "start_time": "2024-12-02T22:44:39.419367",
     "status": "completed"
    },
    "tags": []
   },
   "outputs": [
    {
     "name": "stdout",
     "output_type": "stream",
     "text": [
      "/content/AutoAttack_Cifake\n"
     ]
    }
   ],
   "source": [
    "root_dir = Path(os.getcwd())\n",
    "output_dir = os.path.join(root_dir, \"AutoAttack_Cifake\")\n",
    "os.makedirs(output_dir, exist_ok=True)\n",
    "print(output_dir)\n",
    "def directory_structure(base_dir):\n",
    "    structure = [\n",
    "        \"train/REAL\",\n",
    "        \"train/FAKE\",\n",
    "        \"test/REAL\",\n",
    "        \"test/FAKE\"\n",
    "    ]\n",
    "    for subfolder in structure:\n",
    "        os.makedirs(os.path.join(base_dir, subfolder), exist_ok=True)\n",
    "directory_structure(output_dir)"
   ]
  },
  {
   "cell_type": "code",
   "execution_count": null,
   "id": "uA8iOYAlgw40",
   "metadata": {
    "colab": {
     "base_uri": "https://localhost:8080/",
     "height": 349
    },
    "collapsed": true,
    "id": "uA8iOYAlgw40",
    "outputId": "69c1fad2-a7aa-4ae9-e025-f8f67797555a"
   },
   "outputs": [],
   "source": [
    "#ADD the archive.zip file\n",
    "zip_path =  os.path.join(root_dir, \"archive.zip\")\n",
    "extract_path = os.path.join(root_dir, \"CiFake\")\n",
    "with zipfile.ZipFile(zip_path, 'r') as zip_ref:\n",
    "    zip_ref.extractall(extract_path)\n",
    "print(f\"Files extracted to: {extract_path}\")"
   ]
  },
  {
   "cell_type": "code",
   "execution_count": null,
   "id": "00280d24",
   "metadata": {
    "execution": {
     "iopub.execute_input": "2024-12-02T22:44:39.445820Z",
     "iopub.status.busy": "2024-12-02T22:44:39.445609Z",
     "iopub.status.idle": "2024-12-02T22:44:39.449091Z",
     "shell.execute_reply": "2024-12-02T22:44:39.448465Z"
    },
    "id": "00280d24",
    "papermill": {
     "duration": 0.011495,
     "end_time": "2024-12-02T22:44:39.450722",
     "exception": false,
     "start_time": "2024-12-02T22:44:39.439227",
     "status": "completed"
    },
    "tags": []
   },
   "outputs": [],
   "source": [
    "#File handling and sorting the first images in cifake\n",
    "TRAINREAL = os.path.join(extract_path, \"train/REAL\")\n",
    "TRAINFAKE = os.path.join(extract_path, \"train/FAKE\")\n",
    "TESTFAKE = os.path.join(extract_path, \"test/FAKE\")\n",
    "TESTREAL = os.path.join(extract_path, \"test/REAL\")\n",
    "image_TRAINREAL = [f for f in os.listdir(TRAINREAL) if f.lower().endswith('.jpg')]\n",
    "image_TRAINFAKE = [f for f in os.listdir(TRAINFAKE) if f.lower().endswith('.jpg')]\n",
    "image_TESTFAKE = [f for f in os.listdir(TESTFAKE) if f.lower().endswith('.jpg')]\n",
    "image_TESTREAL = [f for f in os.listdir(TESTREAL) if f.lower().endswith('.jpg')]\n",
    "image_TRAINREAL.sort()\n",
    "image_TRAINFAKE.sort()\n",
    "image_TESTFAKE.sort()\n",
    "image_TESTREAL.sort()\n",
    "trreal = image_TRAINREAL[:3500]\n",
    "trfake = image_TRAINFAKE[:3500]\n",
    "ttreal = image_TESTREAL[:1000]\n",
    "ttfake = image_TESTFAKE[:1000]\n",
    "real_train = os.path.join(root_dir, \"TRAIN1/REAL\")\n",
    "fake_train = os.path.join(root_dir,\"TRAIN2/FAKE\" )\n",
    "fake_test = os.path.join(root_dir,\"TEST2/FAKE\" )\n",
    "real_test = os.path.join(root_dir,\"TEST1/REAL\" )\n",
    "print(real_train, fake_train)\n",
    "os.makedirs(real_train, exist_ok=True)\n",
    "os.makedirs(fake_train, exist_ok=True)\n",
    "os.makedirs(fake_test, exist_ok=True)\n",
    "os.makedirs(real_test, exist_ok=True)"
   ]
  },
  {
   "cell_type": "code",
   "execution_count": 5,
   "id": "5b32336a",
   "metadata": {
    "execution": {
     "iopub.execute_input": "2024-12-02T22:44:43.453326Z",
     "iopub.status.busy": "2024-12-02T22:44:43.453082Z",
     "iopub.status.idle": "2024-12-02T22:44:43.457027Z",
     "shell.execute_reply": "2024-12-02T22:44:43.456381Z"
    },
    "id": "5b32336a",
    "papermill": {
     "duration": 0.012481,
     "end_time": "2024-12-02T22:44:43.458551",
     "exception": false,
     "start_time": "2024-12-02T22:44:43.446070",
     "status": "completed"
    },
    "tags": []
   },
   "outputs": [],
   "source": [
    "os.chdir(os.path.join(root_dir, \"auto-attack\"))"
   ]
  },
  {
   "cell_type": "code",
   "execution_count": 6,
   "id": "zhMScelXulQL",
   "metadata": {
    "id": "zhMScelXulQL"
   },
   "outputs": [],
   "source": [
    "from autoattack import AutoAttack"
   ]
  },
  {
   "cell_type": "code",
   "execution_count": 8,
   "id": "83f257e0",
   "metadata": {
    "execution": {
     "iopub.execute_input": "2024-12-02T22:44:47.997464Z",
     "iopub.status.busy": "2024-12-02T22:44:47.997093Z",
     "iopub.status.idle": "2024-12-02T22:44:48.000647Z",
     "shell.execute_reply": "2024-12-02T22:44:47.999916Z"
    },
    "id": "83f257e0",
    "papermill": {
     "duration": 0.013163,
     "end_time": "2024-12-02T22:44:48.002132",
     "exception": false,
     "start_time": "2024-12-02T22:44:47.988969",
     "status": "completed"
    },
    "tags": []
   },
   "outputs": [],
   "source": [
    "#Add the weights fake_detector.pth\n",
    "weights = os.path.join(root_dir, \"fake_detector.pth\")"
   ]
  },
  {
   "cell_type": "code",
   "execution_count": null,
   "id": "945dfdcc",
   "metadata": {
    "colab": {
     "base_uri": "https://localhost:8080/"
    },
    "execution": {
     "iopub.execute_input": "2024-12-02T22:44:48.016670Z",
     "iopub.status.busy": "2024-12-02T22:44:48.016412Z",
     "iopub.status.idle": "2024-12-02T22:44:50.506042Z",
     "shell.execute_reply": "2024-12-02T22:44:50.505262Z"
    },
    "id": "945dfdcc",
    "outputId": "b6c48ba8-707f-494a-845a-7b7eab0e9013",
    "papermill": {
     "duration": 2.499131,
     "end_time": "2024-12-02T22:44:50.507959",
     "exception": false,
     "start_time": "2024-12-02T22:44:48.008828",
     "status": "completed"
    },
    "tags": []
   },
   "outputs": [],
   "source": [
    "def load_Resnet50(model_path, num_classes=2, device='cuda'):\n",
    "    \"\"\"Loading the weights\"\"\"\n",
    "    model = resnet50(pretrained=False)\n",
    "    model.fc = nn.Linear(model.fc.in_features, num_classes)\n",
    "    state_dict = torch.load(model_path)\n",
    "    if isinstance(state_dict, dict):\n",
    "        new_state_dict = {}\n",
    "        for k, v in state_dict.items():\n",
    "            if k.startswith('module.'):\n",
    "                new_state_dict[k[7:]] = v\n",
    "            else:\n",
    "                new_state_dict[k] = v\n",
    "        model.load_state_dict(new_state_dict)\n",
    "    else:\n",
    "        model = state_dict\n",
    "\n",
    "    return model.to(device)\n",
    "\n",
    "classifier = load_Resnet50(weights)"
   ]
  },
  {
   "cell_type": "code",
   "execution_count": null,
   "id": "94a98cd7",
   "metadata": {
    "execution": {
     "iopub.execute_input": "2024-12-02T22:44:50.542782Z",
     "iopub.status.busy": "2024-12-02T22:44:50.542360Z",
     "iopub.status.idle": "2024-12-02T22:44:50.546999Z",
     "shell.execute_reply": "2024-12-02T22:44:50.546331Z"
    },
    "id": "94a98cd7",
    "papermill": {
     "duration": 0.0137,
     "end_time": "2024-12-02T22:44:50.548551",
     "exception": false,
     "start_time": "2024-12-02T22:44:50.534851",
     "status": "completed"
    },
    "tags": []
   },
   "outputs": [],
   "source": [
    "#input tensor\n",
    "def INPUT_PATH(img_path):\n",
    "    input_org_image = Image.open(img_path).resize((224, 224), Image.Resampling.LANCZOS)\n",
    "    testX = np.array(input_org_image)/255.0\n",
    "    model_input_org = testX[np.newaxis, ...]\n",
    "    torch_testX = torch.from_numpy( np.transpose(model_input_org, (0, 3, 1, 2)) ).float().cuda()\n",
    "    return torch_testX"
   ]
  },
  {
   "cell_type": "code",
   "execution_count": null,
   "id": "00ea7416",
   "metadata": {
    "execution": {
     "iopub.execute_input": "2024-12-02T22:44:50.563375Z",
     "iopub.status.busy": "2024-12-02T22:44:50.562751Z",
     "iopub.status.idle": "2024-12-02T22:44:50.567401Z",
     "shell.execute_reply": "2024-12-02T22:44:50.566615Z"
    },
    "id": "00ea7416",
    "papermill": {
     "duration": 0.013552,
     "end_time": "2024-12-02T22:44:50.568966",
     "exception": false,
     "start_time": "2024-12-02T22:44:50.555414",
     "status": "completed"
    },
    "tags": []
   },
   "outputs": [],
   "source": [
    "def label_Input(filepath):\n",
    "    second_last_part = os.path.basename(os.path.dirname(filepath))\n",
    "    if second_last_part.upper() == \"REAL\":\n",
    "        return torch.tensor([1]).cuda()\n",
    "    elif second_last_part.upper() == \"FAKE\":\n",
    "        return torch.tensor([0]).cuda()\n",
    "    else:\n",
    "        raise ValueError(f\"Unexpected directory name: {second_last_part}\")"
   ]
  },
  {
   "cell_type": "code",
   "execution_count": null,
   "id": "7fcf5fff",
   "metadata": {
    "execution": {
     "iopub.execute_input": "2024-12-02T22:44:50.644291Z",
     "iopub.status.busy": "2024-12-02T22:44:50.643765Z",
     "iopub.status.idle": "2024-12-02T22:45:06.267557Z",
     "shell.execute_reply": "2024-12-02T22:45:06.266803Z"
    },
    "id": "7fcf5fff",
    "papermill": {
     "duration": 15.633208,
     "end_time": "2024-12-02T22:45:06.269566",
     "exception": false,
     "start_time": "2024-12-02T22:44:50.636358",
     "status": "completed"
    },
    "tags": []
   },
   "outputs": [],
   "source": [
    "#new folder\n",
    "for image in trreal:\n",
    "    shutil.copy(os.path.join(TRAINREAL, image), os.path.join(real_train, image))\n",
    "for image in trfake:\n",
    "    shutil.copy(os.path.join(TRAINFAKE, image), os.path.join(fake_train, image))\n",
    "for image in ttfake:\n",
    "    shutil.copy(os.path.join(TESTFAKE, image), os.path.join(fake_test, image))\n",
    "for image in ttreal:\n",
    "    shutil.copy(os.path.join(TESTREAL, image), os.path.join(real_test, image))"
   ]
  },
  {
   "cell_type": "code",
   "execution_count": 10,
   "id": "47ed3b6d",
   "metadata": {
    "colab": {
     "base_uri": "https://localhost:8080/"
    },
    "execution": {
     "iopub.execute_input": "2024-12-02T22:45:30.879045Z",
     "iopub.status.busy": "2024-12-02T22:45:30.878698Z",
     "iopub.status.idle": "2024-12-02T22:45:30.897736Z",
     "shell.execute_reply": "2024-12-02T22:45:30.896838Z"
    },
    "id": "47ed3b6d",
    "outputId": "b40e92bb-022d-4717-eb2b-c831648de264",
    "papermill": {
     "duration": 0.028934,
     "end_time": "2024-12-02T22:45:30.899546",
     "exception": false,
     "start_time": "2024-12-02T22:45:30.870612",
     "status": "completed"
    },
    "tags": []
   },
   "outputs": [
    {
     "name": "stdout",
     "output_type": "stream",
     "text": [
      "setting parameters for standard version\n"
     ]
    },
    {
     "data": {
      "text/plain": [
       "ResNet(\n",
       "  (conv1): Conv2d(3, 64, kernel_size=(7, 7), stride=(2, 2), padding=(3, 3), bias=False)\n",
       "  (bn1): BatchNorm2d(64, eps=1e-05, momentum=0.1, affine=True, track_running_stats=True)\n",
       "  (relu): ReLU(inplace=True)\n",
       "  (maxpool): MaxPool2d(kernel_size=3, stride=2, padding=1, dilation=1, ceil_mode=False)\n",
       "  (layer1): Sequential(\n",
       "    (0): Bottleneck(\n",
       "      (conv1): Conv2d(64, 64, kernel_size=(1, 1), stride=(1, 1), bias=False)\n",
       "      (bn1): BatchNorm2d(64, eps=1e-05, momentum=0.1, affine=True, track_running_stats=True)\n",
       "      (conv2): Conv2d(64, 64, kernel_size=(3, 3), stride=(1, 1), padding=(1, 1), bias=False)\n",
       "      (bn2): BatchNorm2d(64, eps=1e-05, momentum=0.1, affine=True, track_running_stats=True)\n",
       "      (conv3): Conv2d(64, 256, kernel_size=(1, 1), stride=(1, 1), bias=False)\n",
       "      (bn3): BatchNorm2d(256, eps=1e-05, momentum=0.1, affine=True, track_running_stats=True)\n",
       "      (relu): ReLU(inplace=True)\n",
       "      (downsample): Sequential(\n",
       "        (0): Conv2d(64, 256, kernel_size=(1, 1), stride=(1, 1), bias=False)\n",
       "        (1): BatchNorm2d(256, eps=1e-05, momentum=0.1, affine=True, track_running_stats=True)\n",
       "      )\n",
       "    )\n",
       "    (1): Bottleneck(\n",
       "      (conv1): Conv2d(256, 64, kernel_size=(1, 1), stride=(1, 1), bias=False)\n",
       "      (bn1): BatchNorm2d(64, eps=1e-05, momentum=0.1, affine=True, track_running_stats=True)\n",
       "      (conv2): Conv2d(64, 64, kernel_size=(3, 3), stride=(1, 1), padding=(1, 1), bias=False)\n",
       "      (bn2): BatchNorm2d(64, eps=1e-05, momentum=0.1, affine=True, track_running_stats=True)\n",
       "      (conv3): Conv2d(64, 256, kernel_size=(1, 1), stride=(1, 1), bias=False)\n",
       "      (bn3): BatchNorm2d(256, eps=1e-05, momentum=0.1, affine=True, track_running_stats=True)\n",
       "      (relu): ReLU(inplace=True)\n",
       "    )\n",
       "    (2): Bottleneck(\n",
       "      (conv1): Conv2d(256, 64, kernel_size=(1, 1), stride=(1, 1), bias=False)\n",
       "      (bn1): BatchNorm2d(64, eps=1e-05, momentum=0.1, affine=True, track_running_stats=True)\n",
       "      (conv2): Conv2d(64, 64, kernel_size=(3, 3), stride=(1, 1), padding=(1, 1), bias=False)\n",
       "      (bn2): BatchNorm2d(64, eps=1e-05, momentum=0.1, affine=True, track_running_stats=True)\n",
       "      (conv3): Conv2d(64, 256, kernel_size=(1, 1), stride=(1, 1), bias=False)\n",
       "      (bn3): BatchNorm2d(256, eps=1e-05, momentum=0.1, affine=True, track_running_stats=True)\n",
       "      (relu): ReLU(inplace=True)\n",
       "    )\n",
       "  )\n",
       "  (layer2): Sequential(\n",
       "    (0): Bottleneck(\n",
       "      (conv1): Conv2d(256, 128, kernel_size=(1, 1), stride=(1, 1), bias=False)\n",
       "      (bn1): BatchNorm2d(128, eps=1e-05, momentum=0.1, affine=True, track_running_stats=True)\n",
       "      (conv2): Conv2d(128, 128, kernel_size=(3, 3), stride=(2, 2), padding=(1, 1), bias=False)\n",
       "      (bn2): BatchNorm2d(128, eps=1e-05, momentum=0.1, affine=True, track_running_stats=True)\n",
       "      (conv3): Conv2d(128, 512, kernel_size=(1, 1), stride=(1, 1), bias=False)\n",
       "      (bn3): BatchNorm2d(512, eps=1e-05, momentum=0.1, affine=True, track_running_stats=True)\n",
       "      (relu): ReLU(inplace=True)\n",
       "      (downsample): Sequential(\n",
       "        (0): Conv2d(256, 512, kernel_size=(1, 1), stride=(2, 2), bias=False)\n",
       "        (1): BatchNorm2d(512, eps=1e-05, momentum=0.1, affine=True, track_running_stats=True)\n",
       "      )\n",
       "    )\n",
       "    (1): Bottleneck(\n",
       "      (conv1): Conv2d(512, 128, kernel_size=(1, 1), stride=(1, 1), bias=False)\n",
       "      (bn1): BatchNorm2d(128, eps=1e-05, momentum=0.1, affine=True, track_running_stats=True)\n",
       "      (conv2): Conv2d(128, 128, kernel_size=(3, 3), stride=(1, 1), padding=(1, 1), bias=False)\n",
       "      (bn2): BatchNorm2d(128, eps=1e-05, momentum=0.1, affine=True, track_running_stats=True)\n",
       "      (conv3): Conv2d(128, 512, kernel_size=(1, 1), stride=(1, 1), bias=False)\n",
       "      (bn3): BatchNorm2d(512, eps=1e-05, momentum=0.1, affine=True, track_running_stats=True)\n",
       "      (relu): ReLU(inplace=True)\n",
       "    )\n",
       "    (2): Bottleneck(\n",
       "      (conv1): Conv2d(512, 128, kernel_size=(1, 1), stride=(1, 1), bias=False)\n",
       "      (bn1): BatchNorm2d(128, eps=1e-05, momentum=0.1, affine=True, track_running_stats=True)\n",
       "      (conv2): Conv2d(128, 128, kernel_size=(3, 3), stride=(1, 1), padding=(1, 1), bias=False)\n",
       "      (bn2): BatchNorm2d(128, eps=1e-05, momentum=0.1, affine=True, track_running_stats=True)\n",
       "      (conv3): Conv2d(128, 512, kernel_size=(1, 1), stride=(1, 1), bias=False)\n",
       "      (bn3): BatchNorm2d(512, eps=1e-05, momentum=0.1, affine=True, track_running_stats=True)\n",
       "      (relu): ReLU(inplace=True)\n",
       "    )\n",
       "    (3): Bottleneck(\n",
       "      (conv1): Conv2d(512, 128, kernel_size=(1, 1), stride=(1, 1), bias=False)\n",
       "      (bn1): BatchNorm2d(128, eps=1e-05, momentum=0.1, affine=True, track_running_stats=True)\n",
       "      (conv2): Conv2d(128, 128, kernel_size=(3, 3), stride=(1, 1), padding=(1, 1), bias=False)\n",
       "      (bn2): BatchNorm2d(128, eps=1e-05, momentum=0.1, affine=True, track_running_stats=True)\n",
       "      (conv3): Conv2d(128, 512, kernel_size=(1, 1), stride=(1, 1), bias=False)\n",
       "      (bn3): BatchNorm2d(512, eps=1e-05, momentum=0.1, affine=True, track_running_stats=True)\n",
       "      (relu): ReLU(inplace=True)\n",
       "    )\n",
       "  )\n",
       "  (layer3): Sequential(\n",
       "    (0): Bottleneck(\n",
       "      (conv1): Conv2d(512, 256, kernel_size=(1, 1), stride=(1, 1), bias=False)\n",
       "      (bn1): BatchNorm2d(256, eps=1e-05, momentum=0.1, affine=True, track_running_stats=True)\n",
       "      (conv2): Conv2d(256, 256, kernel_size=(3, 3), stride=(2, 2), padding=(1, 1), bias=False)\n",
       "      (bn2): BatchNorm2d(256, eps=1e-05, momentum=0.1, affine=True, track_running_stats=True)\n",
       "      (conv3): Conv2d(256, 1024, kernel_size=(1, 1), stride=(1, 1), bias=False)\n",
       "      (bn3): BatchNorm2d(1024, eps=1e-05, momentum=0.1, affine=True, track_running_stats=True)\n",
       "      (relu): ReLU(inplace=True)\n",
       "      (downsample): Sequential(\n",
       "        (0): Conv2d(512, 1024, kernel_size=(1, 1), stride=(2, 2), bias=False)\n",
       "        (1): BatchNorm2d(1024, eps=1e-05, momentum=0.1, affine=True, track_running_stats=True)\n",
       "      )\n",
       "    )\n",
       "    (1): Bottleneck(\n",
       "      (conv1): Conv2d(1024, 256, kernel_size=(1, 1), stride=(1, 1), bias=False)\n",
       "      (bn1): BatchNorm2d(256, eps=1e-05, momentum=0.1, affine=True, track_running_stats=True)\n",
       "      (conv2): Conv2d(256, 256, kernel_size=(3, 3), stride=(1, 1), padding=(1, 1), bias=False)\n",
       "      (bn2): BatchNorm2d(256, eps=1e-05, momentum=0.1, affine=True, track_running_stats=True)\n",
       "      (conv3): Conv2d(256, 1024, kernel_size=(1, 1), stride=(1, 1), bias=False)\n",
       "      (bn3): BatchNorm2d(1024, eps=1e-05, momentum=0.1, affine=True, track_running_stats=True)\n",
       "      (relu): ReLU(inplace=True)\n",
       "    )\n",
       "    (2): Bottleneck(\n",
       "      (conv1): Conv2d(1024, 256, kernel_size=(1, 1), stride=(1, 1), bias=False)\n",
       "      (bn1): BatchNorm2d(256, eps=1e-05, momentum=0.1, affine=True, track_running_stats=True)\n",
       "      (conv2): Conv2d(256, 256, kernel_size=(3, 3), stride=(1, 1), padding=(1, 1), bias=False)\n",
       "      (bn2): BatchNorm2d(256, eps=1e-05, momentum=0.1, affine=True, track_running_stats=True)\n",
       "      (conv3): Conv2d(256, 1024, kernel_size=(1, 1), stride=(1, 1), bias=False)\n",
       "      (bn3): BatchNorm2d(1024, eps=1e-05, momentum=0.1, affine=True, track_running_stats=True)\n",
       "      (relu): ReLU(inplace=True)\n",
       "    )\n",
       "    (3): Bottleneck(\n",
       "      (conv1): Conv2d(1024, 256, kernel_size=(1, 1), stride=(1, 1), bias=False)\n",
       "      (bn1): BatchNorm2d(256, eps=1e-05, momentum=0.1, affine=True, track_running_stats=True)\n",
       "      (conv2): Conv2d(256, 256, kernel_size=(3, 3), stride=(1, 1), padding=(1, 1), bias=False)\n",
       "      (bn2): BatchNorm2d(256, eps=1e-05, momentum=0.1, affine=True, track_running_stats=True)\n",
       "      (conv3): Conv2d(256, 1024, kernel_size=(1, 1), stride=(1, 1), bias=False)\n",
       "      (bn3): BatchNorm2d(1024, eps=1e-05, momentum=0.1, affine=True, track_running_stats=True)\n",
       "      (relu): ReLU(inplace=True)\n",
       "    )\n",
       "    (4): Bottleneck(\n",
       "      (conv1): Conv2d(1024, 256, kernel_size=(1, 1), stride=(1, 1), bias=False)\n",
       "      (bn1): BatchNorm2d(256, eps=1e-05, momentum=0.1, affine=True, track_running_stats=True)\n",
       "      (conv2): Conv2d(256, 256, kernel_size=(3, 3), stride=(1, 1), padding=(1, 1), bias=False)\n",
       "      (bn2): BatchNorm2d(256, eps=1e-05, momentum=0.1, affine=True, track_running_stats=True)\n",
       "      (conv3): Conv2d(256, 1024, kernel_size=(1, 1), stride=(1, 1), bias=False)\n",
       "      (bn3): BatchNorm2d(1024, eps=1e-05, momentum=0.1, affine=True, track_running_stats=True)\n",
       "      (relu): ReLU(inplace=True)\n",
       "    )\n",
       "    (5): Bottleneck(\n",
       "      (conv1): Conv2d(1024, 256, kernel_size=(1, 1), stride=(1, 1), bias=False)\n",
       "      (bn1): BatchNorm2d(256, eps=1e-05, momentum=0.1, affine=True, track_running_stats=True)\n",
       "      (conv2): Conv2d(256, 256, kernel_size=(3, 3), stride=(1, 1), padding=(1, 1), bias=False)\n",
       "      (bn2): BatchNorm2d(256, eps=1e-05, momentum=0.1, affine=True, track_running_stats=True)\n",
       "      (conv3): Conv2d(256, 1024, kernel_size=(1, 1), stride=(1, 1), bias=False)\n",
       "      (bn3): BatchNorm2d(1024, eps=1e-05, momentum=0.1, affine=True, track_running_stats=True)\n",
       "      (relu): ReLU(inplace=True)\n",
       "    )\n",
       "  )\n",
       "  (layer4): Sequential(\n",
       "    (0): Bottleneck(\n",
       "      (conv1): Conv2d(1024, 512, kernel_size=(1, 1), stride=(1, 1), bias=False)\n",
       "      (bn1): BatchNorm2d(512, eps=1e-05, momentum=0.1, affine=True, track_running_stats=True)\n",
       "      (conv2): Conv2d(512, 512, kernel_size=(3, 3), stride=(2, 2), padding=(1, 1), bias=False)\n",
       "      (bn2): BatchNorm2d(512, eps=1e-05, momentum=0.1, affine=True, track_running_stats=True)\n",
       "      (conv3): Conv2d(512, 2048, kernel_size=(1, 1), stride=(1, 1), bias=False)\n",
       "      (bn3): BatchNorm2d(2048, eps=1e-05, momentum=0.1, affine=True, track_running_stats=True)\n",
       "      (relu): ReLU(inplace=True)\n",
       "      (downsample): Sequential(\n",
       "        (0): Conv2d(1024, 2048, kernel_size=(1, 1), stride=(2, 2), bias=False)\n",
       "        (1): BatchNorm2d(2048, eps=1e-05, momentum=0.1, affine=True, track_running_stats=True)\n",
       "      )\n",
       "    )\n",
       "    (1): Bottleneck(\n",
       "      (conv1): Conv2d(2048, 512, kernel_size=(1, 1), stride=(1, 1), bias=False)\n",
       "      (bn1): BatchNorm2d(512, eps=1e-05, momentum=0.1, affine=True, track_running_stats=True)\n",
       "      (conv2): Conv2d(512, 512, kernel_size=(3, 3), stride=(1, 1), padding=(1, 1), bias=False)\n",
       "      (bn2): BatchNorm2d(512, eps=1e-05, momentum=0.1, affine=True, track_running_stats=True)\n",
       "      (conv3): Conv2d(512, 2048, kernel_size=(1, 1), stride=(1, 1), bias=False)\n",
       "      (bn3): BatchNorm2d(2048, eps=1e-05, momentum=0.1, affine=True, track_running_stats=True)\n",
       "      (relu): ReLU(inplace=True)\n",
       "    )\n",
       "    (2): Bottleneck(\n",
       "      (conv1): Conv2d(2048, 512, kernel_size=(1, 1), stride=(1, 1), bias=False)\n",
       "      (bn1): BatchNorm2d(512, eps=1e-05, momentum=0.1, affine=True, track_running_stats=True)\n",
       "      (conv2): Conv2d(512, 512, kernel_size=(3, 3), stride=(1, 1), padding=(1, 1), bias=False)\n",
       "      (bn2): BatchNorm2d(512, eps=1e-05, momentum=0.1, affine=True, track_running_stats=True)\n",
       "      (conv3): Conv2d(512, 2048, kernel_size=(1, 1), stride=(1, 1), bias=False)\n",
       "      (bn3): BatchNorm2d(2048, eps=1e-05, momentum=0.1, affine=True, track_running_stats=True)\n",
       "      (relu): ReLU(inplace=True)\n",
       "    )\n",
       "  )\n",
       "  (avgpool): AdaptiveAvgPool2d(output_size=(1, 1))\n",
       "  (fc): Linear(in_features=2048, out_features=2, bias=True)\n",
       ")"
      ]
     },
     "execution_count": 10,
     "metadata": {},
     "output_type": "execute_result"
    }
   ],
   "source": [
    "#perturbation functions\n",
    "adversary = AutoAttack(classifier, norm='Linf', eps=8/255., version='standard')\n",
    "classifier.cuda()\n",
    "classifier.eval()"
   ]
  },
  {
   "cell_type": "code",
   "execution_count": null,
   "id": "90109b58",
   "metadata": {
    "execution": {
     "iopub.execute_input": "2024-12-02T22:45:30.940463Z",
     "iopub.status.busy": "2024-12-02T22:45:30.940039Z",
     "iopub.status.idle": "2024-12-03T00:24:55.801834Z",
     "shell.execute_reply": "2024-12-03T00:24:55.800839Z"
    },
    "id": "90109b58",
    "papermill": {
     "duration": 5964.871466,
     "end_time": "2024-12-03T00:24:55.803614",
     "exception": false,
     "start_time": "2024-12-02T22:45:30.932148",
     "status": "completed"
    },
    "tags": []
   },
   "outputs": [],
   "source": [
    "#all 4 folders train--> real, fake, test--> real, fake\n",
    "def run_Attack_train_real(img_path, model, filename):\n",
    "    adversary = AutoAttack(model, norm='Linf', eps=8/255., version='standard')\n",
    "    x_adv = adversary.run_standard_evaluation(INPUT_PATH(img_path),torch.tensor([1]).cuda() , bs=1, return_labels=False)\n",
    "    model_input_adv = np.moveaxis(x_adv.cpu().numpy(), 1, 3)\n",
    "    img = Image.fromarray((model_input_adv[0] * 255).astype('uint8'))\n",
    "    model_input_adv = img.resize((32, 32), Image.Resampling.LANCZOS)\n",
    "    output_path = (os.path.join(output_dir, f'train/REAL/{filename}_AutoAttack.jpg'))\n",
    "    plt.imsave(output_path, np.array(model_input_adv))\n",
    "    print(output_path)\n",
    "\n",
    "directory_for_test1 = real_train\n",
    "for  files in os.listdir(directory_for_test1):\n",
    "    file_name = os.path.splitext(files)[0]\n",
    "    print(file_name)\n",
    "    file_path = os.path.join(directory_for_test1, files)\n",
    "    if os.path.isfile(file_path):\n",
    "        run_Attack_train_real(file_path, classifier, file_name)"
   ]
  },
  {
   "cell_type": "code",
   "execution_count": null,
   "id": "92a27f87",
   "metadata": {
    "execution": {
     "iopub.execute_input": "2024-12-03T00:24:56.185694Z",
     "iopub.status.busy": "2024-12-03T00:24:56.184974Z",
     "iopub.status.idle": "2024-12-03T00:53:22.795849Z",
     "shell.execute_reply": "2024-12-03T00:53:22.794928Z"
    },
    "id": "92a27f87",
    "papermill": {
     "duration": 1706.806575,
     "end_time": "2024-12-03T00:53:22.798082",
     "exception": false,
     "start_time": "2024-12-03T00:24:55.991507",
     "status": "completed"
    },
    "tags": []
   },
   "outputs": [],
   "source": [
    "def run_Attack_test_real(img_path, model, filename):\n",
    "    adversary = AutoAttack(model, norm='Linf', eps=8/255., version='standard')\n",
    "    x_adv = adversary.run_standard_evaluation(INPUT_PATH(img_path),torch.tensor([1]).cuda() , bs=1, return_labels=False)\n",
    "    model_input_adv = np.moveaxis(x_adv.cpu().numpy(), 1, 3)\n",
    "    img = Image.fromarray((model_input_adv[0] * 255).astype('uint8'))\n",
    "    model_input_adv = img.resize((32, 32), Image.Resampling.LANCZOS)\n",
    "    output_path = (os.path.join(output_dir, f'test/REAL/{filename}_AutoAttack.jpg'))\n",
    "    plt.imsave(output_path, np.array(model_input_adv))\n",
    "    print(output_path)\n",
    "\n",
    "directory_for_test2 = real_test\n",
    "for  files in os.listdir(directory_for_test2):\n",
    "    file_name = os.path.splitext(files)[0]\n",
    "    print(file_name)\n",
    "    file_path = os.path.join(directory_for_test2, files)\n",
    "    if os.path.isfile(file_path):\n",
    "        run_Attack_test_real(file_path, classifier, file_name)"
   ]
  },
  {
   "cell_type": "code",
   "execution_count": null,
   "id": "bc079877",
   "metadata": {
    "execution": {
     "iopub.execute_input": "2024-12-03T00:53:23.324536Z",
     "iopub.status.busy": "2024-12-03T00:53:23.324068Z",
     "iopub.status.idle": "2024-12-03T00:58:59.809622Z",
     "shell.execute_reply": "2024-12-03T00:58:59.808649Z"
    },
    "id": "bc079877",
    "papermill": {
     "duration": 336.729901,
     "end_time": "2024-12-03T00:58:59.811585",
     "exception": false,
     "start_time": "2024-12-03T00:53:23.081684",
     "status": "completed"
    },
    "tags": []
   },
   "outputs": [],
   "source": [
    "def run_Attack_test_fake(img_path, model, filename):\n",
    "    adversary = AutoAttack(model, norm='Linf', eps=8/255., version='standard')\n",
    "    x_adv = adversary.run_standard_evaluation(INPUT_PATH(img_path),torch.tensor([0]).cuda() , bs=1, return_labels=False)\n",
    "    model_input_adv = np.moveaxis(x_adv.cpu().numpy(), 1, 3)\n",
    "    img = Image.fromarray((model_input_adv[0] * 255).astype('uint8'))\n",
    "    model_input_adv = img.resize((32, 32), Image.Resampling.LANCZOS)\n",
    "    output_path = (os.path.join(output_dir, f'test/FAKE/{filename}_AutoAttack.jpg'))\n",
    "    plt.imsave(output_path, np.array(model_input_adv))\n",
    "    print(output_path)\n",
    "\n",
    "directory_for_test3 = fake_test\n",
    "for  files in os.listdir(directory_for_test3):\n",
    "    file_name = os.path.splitext(files)[0]\n",
    "    print(file_name)\n",
    "    file_path = os.path.join(directory_for_test3, files)\n",
    "    if os.path.isfile(file_path):\n",
    "        run_Attack_test_fake(file_path, classifier, file_name)"
   ]
  },
  {
   "cell_type": "code",
   "execution_count": null,
   "id": "4a88ded6",
   "metadata": {
    "execution": {
     "iopub.execute_input": "2024-12-03T00:59:00.348458Z",
     "iopub.status.busy": "2024-12-03T00:59:00.347837Z",
     "iopub.status.idle": "2024-12-03T01:17:46.274788Z",
     "shell.execute_reply": "2024-12-03T01:17:46.273788Z"
    },
    "id": "4a88ded6",
    "papermill": {
     "duration": 1126.566367,
     "end_time": "2024-12-03T01:17:46.647580",
     "exception": false,
     "start_time": "2024-12-03T00:59:00.081213",
     "status": "completed"
    },
    "tags": []
   },
   "outputs": [],
   "source": [
    "def run_Attack_train_fake(img_path, model, filename):\n",
    "    adversary = AutoAttack(model, norm='Linf', eps=8/255., version='standard')\n",
    "    x_adv = adversary.run_standard_evaluation(INPUT_PATH(img_path),torch.tensor([0]).cuda() , bs=1, return_labels=False)\n",
    "    model_input_adv = np.moveaxis(x_adv.cpu().numpy(), 1, 3)\n",
    "    img = Image.fromarray((model_input_adv[0] * 255).astype('uint8'))\n",
    "    model_input_adv = img.resize((32, 32), Image.Resampling.LANCZOS)\n",
    "    output_path = (os.path.join(output_dir, f'train/FAKE/{filename}_AutoAttack.jpg'))\n",
    "    plt.imsave(output_path, np.array(model_input_adv))\n",
    "    print(output_path)\n",
    "\n",
    "directory_for_test4 = fake_train\n",
    "for  files in os.listdir(directory_for_test4):\n",
    "    file_name = os.path.splitext(files)[0]\n",
    "    print(file_name)\n",
    "    file_path = os.path.join(directory_for_test4, files)\n",
    "    if os.path.isfile(file_path):\n",
    "        run_Attack_train_fake(file_path, classifier, file_name)"
   ]
  },
  {
   "cell_type": "code",
   "execution_count": null,
   "id": "612cbfdd",
   "metadata": {
    "execution": {
     "iopub.execute_input": "2024-12-03T01:17:47.369494Z",
     "iopub.status.busy": "2024-12-03T01:17:47.369128Z",
     "iopub.status.idle": "2024-12-03T01:17:48.729777Z",
     "shell.execute_reply": "2024-12-03T01:17:48.728835Z"
    },
    "id": "612cbfdd",
    "papermill": {
     "duration": 1.707102,
     "end_time": "2024-12-03T01:17:48.731683",
     "exception": false,
     "start_time": "2024-12-03T01:17:47.024581",
     "status": "completed"
    },
    "tags": []
   },
   "outputs": [],
   "source": [
    "zip_path =  os.path.join(root_dir, \"AutoAttack_Cifake.zip\")\n",
    "shutil.make_archive(base_name=zip_path.replace('.zip', ''), format='zip', root_dir=output_dir)\n",
    "print(f\"Folder compressed into: {zip_path}\")"
   ]
  }
 ],
 "metadata": {
  "accelerator": "GPU",
  "colab": {
   "gpuType": "T4",
   "provenance": []
  },
  "kaggle": {
   "accelerator": "nvidiaTeslaT4",
   "dataSources": [
    {
     "datasetId": 3041726,
     "sourceId": 5256696,
     "sourceType": "datasetVersion"
    },
    {
     "isSourceIdPinned": true,
     "modelId": 181165,
     "modelInstanceId": 158780,
     "sourceId": 186235,
     "sourceType": "modelInstanceVersion"
    }
   ],
   "isGpuEnabled": true,
   "isInternetEnabled": true,
   "language": "python",
   "sourceType": "notebook"
  },
  "kernelspec": {
   "display_name": "Python 3",
   "name": "python3"
  },
  "language_info": {
   "codemirror_mode": {
    "name": "ipython",
    "version": 3
   },
   "file_extension": ".py",
   "mimetype": "text/x-python",
   "name": "python",
   "nbconvert_exporter": "python",
   "pygments_lexer": "ipython3",
   "version": "3.10.14"
  },
  "papermill": {
   "default_parameters": {},
   "duration": 9196.297525,
   "end_time": "2024-12-03T01:17:52.679509",
   "environment_variables": {},
   "exception": null,
   "input_path": "__notebook__.ipynb",
   "output_path": "__notebook__.ipynb",
   "parameters": {},
   "start_time": "2024-12-02T22:44:36.381984",
   "version": "2.6.0"
  }
 },
 "nbformat": 4,
 "nbformat_minor": 5
}
