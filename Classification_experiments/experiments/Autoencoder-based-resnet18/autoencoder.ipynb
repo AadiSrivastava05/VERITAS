{
 "cells": [
  {
   "cell_type": "markdown",
   "metadata": {},
   "source": [
    "Import statements"
   ]
  },
  {
   "cell_type": "code",
   "execution_count": 11,
   "metadata": {
    "execution": {
     "iopub.execute_input": "2024-12-05T18:10:29.715125Z",
     "iopub.status.busy": "2024-12-05T18:10:29.714393Z",
     "iopub.status.idle": "2024-12-05T18:10:41.306534Z",
     "shell.execute_reply": "2024-12-05T18:10:41.305596Z",
     "shell.execute_reply.started": "2024-12-05T18:10:29.715088Z"
    },
    "trusted": true
   },
   "outputs": [],
   "source": [
    "import re\n",
    "import io\n",
    "import cv2\n",
    "import pdb\n",
    "import os\n",
    "import glob\n",
    "import random\n",
    "import requests\n",
    "import torch\n",
    "import numpy as np\n",
    "from tqdm import tqdm\n",
    "import pandas as pd\n",
    "import matplotlib.pyplot as plt\n",
    "from PIL import Image\n",
    "from keras import backend as K\n",
    "from torch.nn import functional as F\n",
    "import torchvision.models as models\n",
    "import torch.optim as optim\n",
    "import torch.multiprocessing as mp\n",
    "import torch.distributed as dist\n",
    "import torch.nn as nn\n",
    "import torch.nn.functional as F\n",
    "from torch.optim.lr_scheduler import ReduceLROnPlateau\n",
    "from sklearn.model_selection import train_test_split\n",
    "from tensorflow.keras.callbacks import EarlyStopping\n",
    "import matplotlib.pylab as plt\n",
    "from torch.utils.data import Dataset, DataLoader\n",
    "import torchvision.transforms as transforms\n",
    "from sklearn.metrics import f1_score, precision_score, recall_score, confusion_matrix\n"
   ]
  },
  {
   "cell_type": "markdown",
   "metadata": {},
   "source": [
    "U-Net Based Autoencoder"
   ]
  },
  {
   "cell_type": "code",
   "execution_count": 12,
   "metadata": {
    "execution": {
     "iopub.execute_input": "2024-12-05T18:10:41.308858Z",
     "iopub.status.busy": "2024-12-05T18:10:41.308383Z",
     "iopub.status.idle": "2024-12-05T18:10:41.312900Z",
     "shell.execute_reply": "2024-12-05T18:10:41.311974Z",
     "shell.execute_reply.started": "2024-12-05T18:10:41.308828Z"
    },
    "trusted": true
   },
   "outputs": [],
   "source": [
    "batch_size =32\n",
    "input_shape = (32, 32)\n",
    "num_epochs = 1\n",
    "in_channels = 3\n",
    "num_classes = 2  \n",
    "patience = 10  # Number of epochs to wait for improvement before EarlyStopping\n",
    "min_delta = 0.001  # Minimum change to consider as improvement for EarlyStopping\n",
    "best_val_loss = float('inf')\n",
    "patience_counter = 0 # Counter to keep track of the number of epochs with no improvement\n"
   ]
  },
  {
   "cell_type": "code",
   "execution_count": 13,
   "metadata": {
    "execution": {
     "iopub.execute_input": "2024-12-05T18:10:41.314327Z",
     "iopub.status.busy": "2024-12-05T18:10:41.314059Z",
     "iopub.status.idle": "2024-12-05T18:10:41.333288Z",
     "shell.execute_reply": "2024-12-05T18:10:41.332450Z",
     "shell.execute_reply.started": "2024-12-05T18:10:41.314303Z"
    },
    "trusted": true
   },
   "outputs": [],
   "source": [
    "class Conv2DLayer_Pytorch(nn.Module):\n",
    "    def __init__(self, in_channels, out_channels, kernel_size, stride, padding, block_id):\n",
    "        super(Conv2DLayer_Pytorch, self).__init__()\n",
    "\n",
    "        \"\"\"\n",
    "        Initializes the Conv2DLayer_Pytorch class.\n",
    "        Args:\n",
    "            in_channels (int): Number of input channels.\n",
    "            out_channels (int): Number of output channels.\n",
    "            kernel_size (int or tuple): Size of the convolving kernel.\n",
    "            stride (int or tuple): Stride of the convolution.\n",
    "            padding (int or tuple): Zero-padding added to both sides of the input.\n",
    "            block_id (int): Identifier for the block, used to prefix layer names.\n",
    "        Attributes:\n",
    "            prefix (str): Prefix for layer names based on block_id.\n",
    "        \"\"\"\n",
    "\n",
    "        self.prefix = f'block_{block_id}_'\n",
    "        # Define layers with attribute names\n",
    "\n",
    "        self.add_module(self.prefix + 'conv', nn.Conv2d(in_channels, out_channels, kernel_size=kernel_size, stride=stride, padding=padding))\n",
    "        self.add_module(self.prefix + 'lrelu', nn.LeakyReLU())\n",
    "        self.add_module(self.prefix + 'drop', nn.Dropout2d(0.2))\n",
    "        self.add_module(self.prefix + 'conv_bn', nn.BatchNorm2d(out_channels))\n",
    "\n",
    "        # Initialize weights using orthogonal initialization\n",
    "        conv_layer = getattr(self, self.prefix + 'conv')\n",
    "        nn.init.orthogonal_(conv_layer.weight)\n",
    "        if conv_layer.bias is not None:\n",
    "            nn.init.constant_(conv_layer.bias, 0)\n",
    "\n",
    "    def forward(self, x):\n",
    "        x = getattr(self, self.prefix + 'conv')(x)\n",
    "        x = getattr(self, self.prefix + 'lrelu')(x)\n",
    "        x = getattr(self, self.prefix + 'drop')(x)\n",
    "        x = getattr(self, self.prefix + 'conv_bn')(x)\n",
    "        return x\n",
    "\n",
    "class Transpose_Conv2D_Pytorch(nn.Module):\n",
    "    def __init__(self, in_channels, out_channels, kernel_size, stride, padding, output_padding, block_id):\n",
    "        super(Transpose_Conv2D_Pytorch, self).__init__()\n",
    "\n",
    "        \"\"\"\n",
    "        Initializes the Transpose_Conv2D_Pytorch layer.\n",
    "        Args:\n",
    "            in_channels (int): Number of input channels.\n",
    "            out_channels (int): Number of output channels.\n",
    "            kernel_size (int or tuple): Size of the convolving kernel.\n",
    "            stride (int or tuple): Stride of the convolution.\n",
    "            padding (int or tuple): Zero-padding added to both sides of the input.\n",
    "            output_padding (int or tuple): Additional size added to one side of each dimension in the output shape.\n",
    "            block_id (int): Identifier for the block, used to prefix layer names.\n",
    "        Attributes:\n",
    "            prefix (str): Prefix for layer names based on block_id.\n",
    "        \"\"\"\n",
    "        \n",
    "        self.prefix = f'block_{block_id}_'\n",
    "        # Define layers with attribute names\n",
    "        self.add_module(self.prefix + 'de_conv', nn.ConvTranspose2d(in_channels, out_channels, kernel_size=kernel_size, stride=stride, padding=padding, output_padding=output_padding))\n",
    "        self.add_module(self.prefix + 'lrelu', nn.LeakyReLU())\n",
    "        self.add_module(self.prefix + 'drop', nn.Dropout2d(0.2))\n",
    "        self.add_module(self.prefix + 'conv_bn', nn.BatchNorm2d(out_channels))\n",
    "\n",
    "        # Initialize weights using orthogonal initialization\n",
    "        deconv_layer = getattr(self, self.prefix + 'de_conv')\n",
    "        nn.init.orthogonal_(deconv_layer.weight)\n",
    "        if deconv_layer.bias is not None:\n",
    "            nn.init.constant_(deconv_layer.bias, 0)\n",
    "\n",
    "    def forward(self, x):\n",
    "        x = getattr(self, self.prefix + 'de_conv')(x)\n",
    "        x = getattr(self, self.prefix + 'lrelu')(x)\n",
    "        x = getattr(self, self.prefix + 'drop')(x)\n",
    "        x = getattr(self, self.prefix + 'conv_bn')(x)\n",
    "        return x\n",
    "\n",
    "class AutoEncoderPyTorch(nn.Module):\n",
    "    def __init__(self, input_shape):\n",
    "        super(AutoEncoderPyTorch, self).__init__()\n",
    "\n",
    "\n",
    "        \"\"\"\n",
    "        Initializes the AutoEncoderPyTorch model.\n",
    "        Args:\n",
    "            input_shape (tuple): The shape of the input tensor, typically (channels, height, width).\n",
    "        \"\"\"\n",
    "        \n",
    "        in_channels =3\n",
    "        # Encoder\n",
    "        self.conv1 = Conv2DLayer_Pytorch(in_channels, 32, 3, 1, padding=1, block_id=1)\n",
    "        self.conv2 = Conv2DLayer_Pytorch(32, 64, 3, 1, padding=1, block_id=2)\n",
    "        self.conv3 = Conv2DLayer_Pytorch(64, 128, 3, 1, padding=1, block_id=3)\n",
    "        self.conv4 = Conv2DLayer_Pytorch(128, 256, 3, 1, padding=1, block_id=4)\n",
    "\n",
    "        # Decoder\n",
    "        self.deconv1 = Transpose_Conv2D_Pytorch(256, 128,3, 1, padding=1, output_padding=0, block_id=5)\n",
    "        self.conv5 = Conv2DLayer_Pytorch(128 + 128, 128, 3, 1, padding=1, block_id=6)\n",
    "        self.deconv2 = Transpose_Conv2D_Pytorch(128, 64, 3, 1, padding=1, output_padding=0, block_id=7)\n",
    "        self.conv6 = Conv2DLayer_Pytorch(64 + 64, 64, 3, 1, padding=1, block_id=8)\n",
    "        self.deconv3 = Transpose_Conv2D_Pytorch(64, 32, 3, 1, padding=1, output_padding=0, block_id=9)\n",
    "        self.conv7 = Conv2DLayer_Pytorch(32 + 32, 32, 3, 1, padding=1, block_id=10)\n",
    "\n",
    "        # Final convolution layer with matching name\n",
    "        self.add_module('final_conv', nn.Conv2d(32, 3, kernel_size=3, stride=1, padding=1))\n",
    "        nn.init.orthogonal_(self.final_conv.weight)\n",
    "\n",
    "        self.sigmoid = nn.Sigmoid()\n",
    "\n",
    "    def forward(self, x):\n",
    "        # Encoder\n",
    "        conv1 = self.conv1(x.permute(0, 1, 2, 3))\n",
    "        conv2 = self.conv2(conv1)\n",
    "        conv3 = self.conv3(conv2)\n",
    "        conv4 = self.conv4(conv3)\n",
    "\n",
    "        # Decoder\n",
    "        deconv1 = self.deconv1(conv4)\n",
    "        skip1 = torch.cat([deconv1, conv3], dim=1)\n",
    "        conv5 = self.conv5(skip1)\n",
    "        deconv2 = self.deconv2(conv5)\n",
    "        skip2 = torch.cat([deconv2, conv2], dim=1)\n",
    "        conv6 = self.conv6(skip2)\n",
    "        deconv3 = self.deconv3(conv6)\n",
    "        skip3 = torch.cat([deconv3, conv1], dim=1)\n",
    "        conv7 = self.conv7(skip3)\n",
    "        conv8 = self.final_conv(conv7)\n",
    "        output = self.sigmoid(conv8)\n",
    "        return output\n"
   ]
  },
  {
   "cell_type": "markdown",
   "metadata": {},
   "source": [
    "Classifier"
   ]
  },
  {
   "cell_type": "code",
   "execution_count": null,
   "metadata": {
    "execution": {
     "iopub.execute_input": "2024-12-05T18:10:41.334606Z",
     "iopub.status.busy": "2024-12-05T18:10:41.334358Z",
     "iopub.status.idle": "2024-12-05T18:10:42.761716Z",
     "shell.execute_reply": "2024-12-05T18:10:42.760795Z",
     "shell.execute_reply.started": "2024-12-05T18:10:41.334582Z"
    },
    "trusted": true
   },
   "outputs": [],
   "source": [
    "# Load the pre-trained ResNet-18 model\n",
    "\n",
    "class ResNet18(nn.Module):\n",
    "    def __init__(self, num_classes=2):\n",
    "\n",
    "        \"\"\"\n",
    "        Initializes the ResNet18 model with a specified number of output classes.\n",
    "        Args:\n",
    "            num_classes (int, optional): The number of output classes for the final fully connected layer. Default is 2.\n",
    "        Attributes:\n",
    "            model (torch.nn.Module): The ResNet18 model with modified average pooling and fully connected layers.\n",
    "            soft (torch.nn.Softmax): The softmax activation function applied to the model's output.\n",
    "        Loads the pre-trained model weights from a specified checkpoint file and transfers the model to the appropriate device (GPU if available, otherwise CPU).\n",
    "        \"\"\"\n",
    "\n",
    "        super(ResNet18, self).__init__()\n",
    "\n",
    "        device = torch.device(\"cuda\" if torch.cuda.is_available() else \"cpu\")\n",
    "        self.model = models.resnet18(weights=models.ResNet18_Weights.DEFAULT).to(device)\n",
    "        self.model.avgpool = nn.AdaptiveAvgPool2d(1)\n",
    "        num_classes = 2\n",
    "        self.model.fc = nn.Linear(self.model.fc.in_features,num_classes)\n",
    "        self.model.to(device)\n",
    "\n",
    "        \"\"\"Please change the path to the checkpoint file as named below before running it.\"\"\"\n",
    "        \n",
    "        checkpoint = torch.load('./best_model_resnet_4th_on_entire.pth')\n",
    "        self.model.load_state_dict(checkpoint)\n",
    "        self.model.to(device)\n",
    "        self.soft= nn.Softmax()\n",
    "\n",
    "    def forward(self, x):\n",
    "\n",
    "        x = self.model(x)\n",
    "        x = self.soft(x)\n",
    "        return x\n",
    "\n"
   ]
  },
  {
   "cell_type": "code",
   "execution_count": 16,
   "metadata": {
    "execution": {
     "iopub.execute_input": "2024-12-05T18:10:42.763086Z",
     "iopub.status.busy": "2024-12-05T18:10:42.762817Z",
     "iopub.status.idle": "2024-12-05T18:10:42.768401Z",
     "shell.execute_reply": "2024-12-05T18:10:42.767454Z",
     "shell.execute_reply.started": "2024-12-05T18:10:42.763060Z"
    },
    "trusted": true
   },
   "outputs": [],
   "source": [
    "class Autores_pipeline(nn.Module):\n",
    "    \n",
    "    def __init__(self, input_shape, num_classes=1):\n",
    "        super(Autores_pipeline, self).__init__()\n",
    "        self.autoencoder = AutoEncoderPyTorch((*input_shape, 3))\n",
    "        self.classifier=ResNet18(num_classes)\n",
    "\n",
    "    def __call__(self, x):\n",
    "        signature= self.autoencoder(x)\n",
    "        clean_image=x-signature\n",
    "        output = self.classifier(clean_image)\n",
    "        return clean_image,signature,output"
   ]
  },
  {
   "cell_type": "markdown",
   "metadata": {},
   "source": [
    "Upload Training Dataset"
   ]
  },
  {
   "cell_type": "code",
   "execution_count": null,
   "metadata": {
    "execution": {
     "iopub.execute_input": "2024-12-05T18:10:42.769929Z",
     "iopub.status.busy": "2024-12-05T18:10:42.769608Z",
     "iopub.status.idle": "2024-12-05T18:10:42.782641Z",
     "shell.execute_reply": "2024-12-05T18:10:42.781925Z",
     "shell.execute_reply.started": "2024-12-05T18:10:42.769893Z"
    },
    "trusted": true
   },
   "outputs": [],
   "source": [
    "class PerturbedDataset(Dataset):\n",
    "    def __init__(self, root_dir, transform=None):\n",
    "        \n",
    "        \"\"\"\n",
    "        Initialize the dataset with the given root directory and optional transform.\n",
    "        Args:\n",
    "            root_dir (str): The root directory containing the \"Perturbed\" and \"Unperturbed\" subdirectories.\n",
    "            transform (callable, optional): A function/transform to apply to the images. Defaults to None.\n",
    "        Raises:\n",
    "            ValueError: If one or both of the required directories do not exist.\n",
    "            ValueError: If there is a mismatch in the number of files between the \"Perturbed\" and \"Unperturbed\" directories.\n",
    "        Attributes:\n",
    "            root_dir (str): The root directory containing the image subdirectories.\n",
    "            perturbed_path (str): The path to the \"Perturbed\" images directory.\n",
    "            unperturbed_path (str): The path to the \"Unperturbed\" images directory.\n",
    "            image_pairs (list): A list of tuples, each containing the paths to a perturbed image, an unperturbed image, and a label.\n",
    "            transform (callable): The transform to apply to the images.\n",
    "        \"\"\"\n",
    "\n",
    "\n",
    "        self.root_dir = root_dir\n",
    "\n",
    "        \"\"\"Please unzip the dataset_autoencoder.zip file and please copy the respective x and y label folders to the dataset_autoencoder directory before running the cell.\"\"\"\n",
    "        \n",
    "        self.perturbed_path = os.path.join(root_dir, \"autoencoder_x_label/train\")\n",
    "        self.unperturbed_path = os.path.join(root_dir, \"autoencoder_y_label/train\")\n",
    "        \n",
    "        # Ensure directories exist\n",
    "        if not os.path.exists(self.perturbed_path) or not os.path.exists(self.unperturbed_path):\n",
    "            raise ValueError(\"One or both of the required directories do not exist.\")\n",
    "        \n",
    "        # Get sorted lists of files in each directory\n",
    "        perturbed_files = sorted([f for f in os.listdir(self.perturbed_path) if f.lower().endswith((\".jpg\", \".jpeg\", \".png\"))])\n",
    "        unperturbed_files = sorted([f for f in os.listdir(self.unperturbed_path) if f.lower().endswith((\".jpg\", \".jpeg\", \".png\"))])\n",
    "\n",
    "        # Check if we have the same number of files in each directory\n",
    "        if len(perturbed_files) != len(unperturbed_files):\n",
    "            raise ValueError(\"Mismatch in number of files between Perturbed and Unperturbed directories.\")\n",
    "        \n",
    "        # Store the image pairs (full paths) and labels\n",
    "        self.image_pairs = []\n",
    "        self.transform = transform\n",
    "        \n",
    "        for perturbed_file, unperturbed_file in zip(perturbed_files, unperturbed_files):\n",
    "            perturbed_image_path = os.path.join(self.perturbed_path, perturbed_file)\n",
    "            unperturbed_image_path = os.path.join(self.unperturbed_path, unperturbed_file)\n",
    "\n",
    "            # Label assignment (can be based on filenames or other logic)\n",
    "            label = 1 if \"REAL\" in perturbed_file else 0\n",
    "\n",
    "            # Append to image_pairs list\n",
    "            self.image_pairs.append((perturbed_image_path, unperturbed_image_path, label))\n",
    "        \n",
    "        # Debug: print the number of image pairs found\n",
    "        if not self.image_pairs:\n",
    "            print(\"No image pairs found. Please check the file paths and names.\")\n",
    "        else:\n",
    "            print(f\"Total image pairs found: {len(self.image_pairs)}\")\n",
    "\n",
    "    def __len__(self):\n",
    "        return len(self.image_pairs)\n",
    "\n",
    "    def __getitem__(self, idx):\n",
    "        perturbed_image_path, unperturbed_image_path, label = self.image_pairs[idx]\n",
    "\n",
    "        perturbed_image = Image.open(perturbed_image_path).convert(\"RGB\")\n",
    "        unperturbed_image = Image.open(unperturbed_image_path).convert(\"RGB\")\n",
    "\n",
    "        if self.transform:\n",
    "            perturbed_image = self.transform(perturbed_image)\n",
    "            unperturbed_image = self.transform(unperturbed_image)\n",
    "\n",
    "        return perturbed_image, unperturbed_image, label\n",
    "\n",
    "# Set up transformations, if needed\n",
    "transform = transforms.Compose([\n",
    "    transforms.Resize((32, 32)),\n",
    "    transforms.ToTensor(),\n",
    "    transforms.Normalize(mean=[0.5, 0.5, 0.5], std=[0.5, 0.5, 0.5]),\n",
    "    \n",
    "])\n",
    "\n",
    "# Set up the dataset and dataloader\n",
    "\"\"\"Please change the path to the dataset_autoencoder directory before running the cell.\"\"\"\n",
    "\n",
    "root_directory = \"./\"\n",
    "\n",
    "dataset = PerturbedDataset(root_dir=root_directory, transform=transform)\n",
    "train_dataset, val_dataset = train_test_split(dataset, test_size=0.2, random_state=42)\n",
    "\n",
    "train_loader = DataLoader(train_dataset, batch_size=32, shuffle=True,num_workers=0)\n",
    "val_loader = DataLoader(val_dataset, batch_size=32, shuffle=False,num_workers=0)"
   ]
  },
  {
   "cell_type": "markdown",
   "metadata": {},
   "source": [
    "Custom Loss Function"
   ]
  },
  {
   "cell_type": "code",
   "execution_count": 96,
   "metadata": {},
   "outputs": [],
   "source": [
    "# Define custom loss function\n",
    "def loss_fn(y_true, y_pred, clean_image_true, adv_image,signature, lambd=0.5):\n",
    "        \n",
    "        \"\"\"\n",
    "        Computes the combined loss for an autoencoder model.\n",
    "\n",
    "        Parameters:\n",
    "        y_true (Tensor): Ground truth labels for the classification task.\n",
    "        y_pred (Tensor): Predicted labels for the classification task.\n",
    "        clean_image_true (Tensor): The original clean image.\n",
    "        adv_image (Tensor): The adversarial image.\n",
    "        signature (Tensor): The encoded representation of the input.\n",
    "        lambd (float, optional): Weighting factor for the encoder loss. Default is 0.5.\n",
    "        \n",
    "        Returns:\n",
    "        Tensor: The combined loss value.\n",
    "        \"\"\"\n",
    "        huber_encoder = nn.HuberLoss()\n",
    "        classification_loss_fn = nn.BCEWithLogitsLoss()\n",
    "\n",
    "        # Huber Loss for the encoder\n",
    "        loss_encoder = huber_encoder(signature, adv_image-clean_image_true)\n",
    "\n",
    "        # Classification loss\n",
    "        loss_classifier = classification_loss_fn(y_pred, y_true)\n",
    "\n",
    "        # Combined loss\n",
    "        loss = lambd * loss_encoder + (1 - lambd) * loss_classifier\n",
    "        return loss\n"
   ]
  },
  {
   "cell_type": "markdown",
   "metadata": {},
   "source": [
    "Training Loop"
   ]
  },
  {
   "cell_type": "code",
   "execution_count": null,
   "metadata": {
    "execution": {
     "iopub.execute_input": "2024-12-05T18:10:42.805825Z",
     "iopub.status.busy": "2024-12-05T18:10:42.805509Z",
     "iopub.status.idle": "2024-12-05T18:10:42.816892Z",
     "shell.execute_reply": "2024-12-05T18:10:42.816115Z",
     "shell.execute_reply.started": "2024-12-05T18:10:42.805790Z"
    },
    "trusted": true
   },
   "outputs": [],
   "source": [
    "all_image=[]\n",
    "# Initialize the model\n",
    "model = Autores_pipeline(input_shape, num_classes=2)\n",
    "# Wrap the model with DataParallel for multi-GPU training\n",
    "model = nn.DataParallel(model)\n",
    "model = model.to('cuda')\n",
    "\n",
    "\"\"\"Please change the path to the best model checkpoint file (named as below) before running the cell.\"\"\"\n",
    "\n",
    "model.load_state_dict(torch.load(\"./frozen_resnet_18_model.pth\"))\n",
    "\n",
    "\n",
    "# Define optimizer and scheduler\n",
    "optimizer = torch.optim.AdamW(model.parameters(), lr=0.01)\n",
    "scheduler = ReduceLROnPlateau(optimizer, mode='min', factor=0.5, patience=3, verbose=True, min_lr=1e-6)\n",
    "\n",
    "# Define accuracy calculation\n",
    "def calculate_accuracy(y_true, y_pred):\n",
    "    _, predicted = torch.max(y_pred, 1)\n",
    "    _, true_labels = torch.max(y_true, 1)\n",
    "    correct = (predicted == true_labels).sum().item()\n",
    "    accuracy = correct / y_true.size(0)\n",
    "    return accuracy\n",
    "\n",
    "\n",
    "# Training loop\n",
    "best_val_loss = float('inf')\n",
    "patience_counter = 6\n",
    "num_epochs = 50\n",
    "patience = 10\n",
    "min_delta = 0.001\n",
    "\n",
    "for epoch in range(num_epochs):\n",
    "    model.train()\n",
    "    train_loss = 0\n",
    "    train_accuracy = 0\n",
    "\n",
    "    for (x, clean_image_true, y) in train_loader:\n",
    "        x, clean_image_true, y = x.to('cuda'), clean_image_true.to('cuda'), y.to('cuda')\n",
    "        \n",
    "        optimizer.zero_grad()\n",
    "        y = F.one_hot(y, num_classes=2).float()\n",
    "\n",
    "        clean_image_pred, signature, output = model(x)\n",
    "        loss = loss_fn(y, output, clean_image_true,x,signature)\n",
    "        loss.backward()\n",
    "        optimizer.step()\n",
    "\n",
    "        train_loss += loss.item()\n",
    "        train_accuracy += calculate_accuracy(y, output)\n",
    "\n",
    "    train_loss /= len(train_loader)\n",
    "    train_accuracy /= len(train_loader)\n",
    "\n",
    "    print(f'Epoch: {epoch + 1}, Train Loss: {train_loss:.4f}, Train Accuracy: {train_accuracy:.4f}')\n",
    "\n",
    "    # Validation phase\n",
    "    model.eval()\n",
    "    val_loss = 0\n",
    "    val_accuracy = 0\n",
    "    all_image=[]\n",
    "    with torch.no_grad():\n",
    "        for (x_val, clean_image_true_val, y_val) in val_loader:\n",
    "            x_val, clean_image_true_val, y_val = x_val.to('cuda'), clean_image_true_val.to('cuda'), y_val.to('cuda')\n",
    "            \n",
    "            clean_image_val, signature_val, output_val = model(x_val)\n",
    "            all_image.extend(clean_image_val.cpu().numpy())\n",
    "            y_val = F.one_hot(y_val, num_classes=2).float()\n",
    "            loss_val = loss_fn(y_val, output_val, clean_image_true_val,x_val,signature_val)\n",
    "\n",
    "            val_loss += loss_val.item()\n",
    "            val_accuracy += calculate_accuracy(y_val, output_val)\n",
    "\n",
    "    val_loss /= len(val_loader)\n",
    "    val_accuracy /= len(val_loader)\n",
    "\n",
    "    print(f'Epoch: {epoch + 1}, Validation Loss: {val_loss:.4f}, Validation Accuracy: {val_accuracy:.4f}')\n",
    "\n",
    "    # Step scheduler based on validation loss\n",
    "    scheduler.step(val_loss)\n",
    "\n",
    "    # Early stopping\n",
    "    if val_loss < best_val_loss - min_delta:\n",
    "        best_val_loss = val_loss\n",
    "        patience_counter = 0\n",
    "        torch.save(model.state_dict(), 'frozen_resnet_18_best_model.pth')  # Save the best model\n",
    "    else:\n",
    "        patience_counter += 1\n",
    "\n",
    "    if patience_counter >= patience:\n",
    "        print(\"Early stopping triggered.\")\n",
    "        break\n",
    "\n",
    "# Save the final model\n",
    "torch.save(model.state_dict(), 'frozen_resnet_18_model.pth')\n"
   ]
  },
  {
   "cell_type": "markdown",
   "metadata": {},
   "source": [
    "Model Testing"
   ]
  },
  {
   "cell_type": "code",
   "execution_count": 98,
   "metadata": {
    "execution": {
     "iopub.execute_input": "2024-12-05T18:10:42.830389Z",
     "iopub.status.busy": "2024-12-05T18:10:42.830086Z",
     "iopub.status.idle": "2024-12-05T18:10:43.378566Z",
     "shell.execute_reply": "2024-12-05T18:10:43.377684Z",
     "shell.execute_reply.started": "2024-12-05T18:10:42.830365Z"
    },
    "trusted": true
   },
   "outputs": [],
   "source": [
    "model = Autores_pipeline(input_shape, num_classes=2)\n",
    "# Wrap the model with DataParallel for multi-GPU training\n",
    "model = nn.DataParallel(model)\n",
    "model = model.to('cuda')\n"
   ]
  },
  {
   "cell_type": "code",
   "execution_count": null,
   "metadata": {
    "execution": {
     "iopub.execute_input": "2024-12-05T18:10:43.384973Z",
     "iopub.status.busy": "2024-12-05T18:10:43.384662Z",
     "iopub.status.idle": "2024-12-05T18:10:43.961142Z",
     "shell.execute_reply": "2024-12-05T18:10:43.960342Z",
     "shell.execute_reply.started": "2024-12-05T18:10:43.384937Z"
    },
    "trusted": true
   },
   "outputs": [],
   "source": [
    "\"\"\"Please change the path to the best model checkpoint file (named as below) before running the cell.\"\"\"\n",
    "\n",
    "odel.load_state_dict(torch.load(\"./frozen_resnet_18_model.pth\"))"
   ]
  },
  {
   "cell_type": "markdown",
   "metadata": {},
   "source": [
    "Final Inference"
   ]
  },
  {
   "cell_type": "code",
   "execution_count": null,
   "metadata": {
    "execution": {
     "iopub.execute_input": "2024-12-05T18:38:30.386927Z",
     "iopub.status.busy": "2024-12-05T18:38:30.386573Z",
     "iopub.status.idle": "2024-12-05T18:38:31.467062Z",
     "shell.execute_reply": "2024-12-05T18:38:31.466237Z",
     "shell.execute_reply.started": "2024-12-05T18:38:30.386899Z"
    },
    "trusted": true
   },
   "outputs": [],
   "source": [
    "import os\n",
    "from PIL import Image\n",
    "from torch.utils.data import Dataset, DataLoader\n",
    "from torchvision import transforms\n",
    "\n",
    "# Custom dataset to include filenames\n",
    "class ImageFolderWithFilenames(Dataset):\n",
    "    \"\"\"\n",
    "    A custom dataset class that loads images from a specified directory and returns\n",
    "    both the image and its filename.\n",
    "    Attributes:\n",
    "        root (str): The root directory containing the images.\n",
    "        transform (callable, optional): A function/transform to apply to the images.\n",
    "    Methods:\n",
    "        __len__(): Returns the total number of images in the dataset.\n",
    "        __getitem__(idx): Returns the image and its filename at the specified index.\n",
    "    \"\"\"\n",
    "    \n",
    "    \"\"\"\n",
    "    Args:\n",
    "        root (str): The root directory containing the images.\n",
    "        transform (callable, optional): A function/transform to apply to the images.\n",
    "    \"\"\"\n",
    "    \"\"\"\n",
    "    Returns:\n",
    "        int: The total number of images in the dataset.\n",
    "    \"\"\"\n",
    "    \"\"\"\n",
    "    Args:\n",
    "        idx (int): The index of the image to retrieve.\n",
    "    Returns:\n",
    "        tuple: (image, image_name) where image is the loaded image and image_name is its filename.\n",
    "    \"\"\"\n",
    "\n",
    "\n",
    "    def __init__(self, root, transform=None):\n",
    "        self.root = root\n",
    "        self.transform = transform\n",
    "        self.image_paths = sorted(os.listdir(root), key=lambda x: int(x.split('.')[0]))  # Sort numerically\n",
    "\n",
    "    def __len__(self):\n",
    "        return len(self.image_paths)\n",
    "\n",
    "    def __getitem__(self, idx):\n",
    "        image_name = self.image_paths[idx]\n",
    "        image_path = os.path.join(self.root, image_name)\n",
    "        image = Image.open(image_path).convert(\"RGB\")  # Load image as RGB\n",
    "        if self.transform:\n",
    "            image = self.transform(image)\n",
    "        return image, image_name  # Return image and its filename\n",
    "\n",
    "# Parameters\n",
    "batch_size = 32  # Adjust batch size as needed\n",
    "\n",
    "\"\"\"Please change the path to the test directory before running the cell.\"\"\"\n",
    "\n",
    "\n",
    "data_dir = './perturbed_images_32'  # Directory where your test images are stored\n",
    "\n",
    "# Define transformations for the test data\n",
    "test_transforms = transforms.Compose([\n",
    "    transforms.ToTensor(),\n",
    "    transforms.Normalize((0.5, 0.5, 0.5), (0.5, 0.5, 0.5))\n",
    "])\n",
    "\n",
    "# Create the dataset and DataLoader\n",
    "test_dataset = ImageFolderWithFilenames(root=data_dir, transform=test_transforms)\n",
    "test_loader = DataLoader(test_dataset, batch_size=batch_size, shuffle=False)\n"
   ]
  },
  {
   "cell_type": "code",
   "execution_count": 102,
   "metadata": {
    "trusted": true
   },
   "outputs": [],
   "source": [
    "# Store predictions and true labels for evaluation\n",
    "all_predicted_labels = []\n",
    "all_files_name=[]\n",
    "all_image=[]\n",
    "opt=[]\n",
    "model.eval()  # Set model to evaluation mode\n",
    "with torch.no_grad():\n",
    "    for x_test,labels in test_loader:\n",
    "        x_test= x_test.to('cuda')\n",
    "        clean_image_test, signature_test, outputs = model(x_test)\n",
    "        all_image.extend(clean_image_test.cpu().numpy())\n",
    "        # Accuracy calculation\n",
    "        predicted_labels = torch.argmax(outputs, dim=1)  # Predicted class   \n",
    "\n",
    "        # Store predictions and true labels for metrics\n",
    "        opt.extend(outputs.cpu().numpy())\n",
    "        all_predicted_labels.extend(predicted_labels.cpu().numpy())\n",
    "        all_files_name.extend(labels)"
   ]
  },
  {
   "cell_type": "code",
   "execution_count": 103,
   "metadata": {
    "execution": {
     "iopub.execute_input": "2024-12-05T19:07:54.011265Z",
     "iopub.status.busy": "2024-12-05T19:07:54.010643Z",
     "iopub.status.idle": "2024-12-05T19:08:50.087841Z",
     "shell.execute_reply": "2024-12-05T19:08:50.087043Z",
     "shell.execute_reply.started": "2024-12-05T19:07:54.011226Z"
    },
    "trusted": true
   },
   "outputs": [
    {
     "name": "stderr",
     "output_type": "stream",
     "text": [
      "Clipping input data to the valid range for imshow with RGB data ([0..1] for floats or [0..255] for integers).\n"
     ]
    },
    {
     "data": {
      "image/png": "[encoded data removed]",
      "text/plain": [
       "<Figure size 640x480 with 1 Axes>"
      ]
     },
     "metadata": {},
     "output_type": "display_data"
    },
    {
     "name": "stderr",
     "output_type": "stream",
     "text": [
      "Clipping input data to the valid range for imshow with RGB data ([0..1] for floats or [0..255] for integers).\n"
     ]
    },
    {
     "data": {
      "image/png": "[encoded data removed]",
      "text/plain": [
       "<Figure size 640x480 with 1 Axes>"
      ]
     },
     "metadata": {},
     "output_type": "display_data"
    },
    {
     "name": "stderr",
     "output_type": "stream",
     "text": [
      "Clipping input data to the valid range for imshow with RGB data ([0..1] for floats or [0..255] for integers).\n"
     ]
    },
    {
     "data": {
      "image/png": "[encoded data removed]",
      "text/plain": [
       "<Figure size 640x480 with 1 Axes>"
      ]
     },
     "metadata": {},
     "output_type": "display_data"
    },
    {
     "name": "stderr",
     "output_type": "stream",
     "text": [
      "Clipping input data to the valid range for imshow with RGB data ([0..1] for floats or [0..255] for integers).\n"
     ]
    },
    {
     "data": {
      "image/png": "[encoded data removed]",
      "text/plain": [
       "<Figure size 640x480 with 1 Axes>"
      ]
     },
     "metadata": {},
     "output_type": "display_data"
    },
    {
     "name": "stderr",
     "output_type": "stream",
     "text": [
      "Clipping input data to the valid range for imshow with RGB data ([0..1] for floats or [0..255] for integers).\n"
     ]
    },
    {
     "data": {
      "image/png": "[encoded data removed]",
      "text/plain": [
       "<Figure size 640x480 with 1 Axes>"
      ]
     },
     "metadata": {},
     "output_type": "display_data"
    },
    {
     "name": "stderr",
     "output_type": "stream",
     "text": [
      "Clipping input data to the valid range for imshow with RGB data ([0..1] for floats or [0..255] for integers).\n"
     ]
    },
    {
     "data": {
      "image/png": "[encoded data removed]",
      "text/plain": [
       "<Figure size 640x480 with 1 Axes>"
      ]
     },
     "metadata": {},
     "output_type": "display_data"
    },
    {
     "name": "stderr",
     "output_type": "stream",
     "text": [
      "Clipping input data to the valid range for imshow with RGB data ([0..1] for floats or [0..255] for integers).\n"
     ]
    },
    {
     "data": {
      "image/png": "[encoded data removed]",
      "text/plain": [
       "<Figure size 640x480 with 1 Axes>"
      ]
     },
     "metadata": {},
     "output_type": "display_data"
    },
    {
     "name": "stderr",
     "output_type": "stream",
     "text": [
      "Clipping input data to the valid range for imshow with RGB data ([0..1] for floats or [0..255] for integers).\n"
     ]
    },
    {
     "data": {
      "image/png": "[encoded data removed]",
      "text/plain": [
       "<Figure size 640x480 with 1 Axes>"
      ]
     },
     "metadata": {},
     "output_type": "display_data"
    },
    {
     "name": "stderr",
     "output_type": "stream",
     "text": [
      "Clipping input data to the valid range for imshow with RGB data ([0..1] for floats or [0..255] for integers).\n"
     ]
    },
    {
     "data": {
      "image/png": "[encoded data removed]",
      "text/plain": [
       "<Figure size 640x480 with 1 Axes>"
      ]
     },
     "metadata": {},
     "output_type": "display_data"
    },
    {
     "name": "stderr",
     "output_type": "stream",
     "text": [
      "Clipping input data to the valid range for imshow with RGB data ([0..1] for floats or [0..255] for integers).\n"
     ]
    },
    {
     "data": {
      "image/png": "[encoded data removed]",
      "text/plain": [
       "<Figure size 640x480 with 1 Axes>"
      ]
     },
     "metadata": {},
     "output_type": "display_data"
    }
   ],
   "source": [
    "# Assuming `all_image` is a list of images\n",
    "for x in all_image[:10]:\n",
    "    # Transpose the axes to match (height, width, channels)\n",
    "    img = np.transpose(x, (1, 2, 0))\n",
    "    plt.imshow(img)\n",
    "    plt.show()\n"
   ]
  },
  {
   "cell_type": "code",
   "execution_count": 104,
   "metadata": {},
   "outputs": [],
   "source": [
    "df_auto_fr=pd.DataFrame(opt, columns=['FAKE','REAL'])"
   ]
  },
  {
   "cell_type": "code",
   "execution_count": 105,
   "metadata": {
    "execution": {
     "iopub.execute_input": "2024-12-05T18:43:20.357714Z",
     "iopub.status.busy": "2024-12-05T18:43:20.357037Z",
     "iopub.status.idle": "2024-12-05T18:43:20.362780Z",
     "shell.execute_reply": "2024-12-05T18:43:20.361849Z",
     "shell.execute_reply.started": "2024-12-05T18:43:20.357680Z"
    },
    "trusted": true
   },
   "outputs": [],
   "source": [
    "df_final = pd.DataFrame({'Filename': all_files_name, 'Predicted Label': all_predicted_labels, 'Probability':df_auto_fr['REAL']})\n"
   ]
  },
  {
   "cell_type": "code",
   "execution_count": 106,
   "metadata": {},
   "outputs": [],
   "source": [
    "df_final.to_csv('E:/Autoencoder_pret/ressn_18.csv', index=False)"
   ]
  }
 ],
 "metadata": {
  "kaggle": {
   "accelerator": "nvidiaTeslaT4",
   "dataSources": [
    {
     "datasetId": 6239076,
     "sourceId": 10112716,
     "sourceType": "datasetVersion"
    },
    {
     "datasetId": 6239078,
     "sourceId": 10112718,
     "sourceType": "datasetVersion"
    },
    {
     "datasetId": 6239027,
     "sourceId": 10112661,
     "sourceType": "datasetVersion"
    }
   ],
   "dockerImageVersionId": 30805,
   "isGpuEnabled": true,
   "isInternetEnabled": true,
   "language": "python",
   "sourceType": "notebook"
  },
  "kernelspec": {
   "display_name": "Python 3",
   "language": "python",
   "name": "python3"
  },
  "language_info": {
   "codemirror_mode": {
    "name": "ipython",
    "version": 3
   },
   "file_extension": ".py",
   "mimetype": "text/x-python",
   "name": "python",
   "nbconvert_exporter": "python",
   "pygments_lexer": "ipython3",
   "version": "3.12.2"
  }
 },
 "nbformat": 4,
 "nbformat_minor": 4
}
